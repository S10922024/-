{
  "nbformat": 4,
  "nbformat_minor": 0,
  "metadata": {
    "colab": {
      "name": "「1015.ipynb」的副本",
      "provenance": [],
      "collapsed_sections": [],
      "include_colab_link": true
    },
    "kernelspec": {
      "name": "ir",
      "display_name": "R"
    }
  },
  "cells": [
    {
      "cell_type": "markdown",
      "metadata": {
        "id": "view-in-github",
        "colab_type": "text"
      },
      "source": [
        "<a href=\"https://colab.research.google.com/github/S10922024/-/blob/master/%E3%80%8C1015_ipynb%E3%80%8D%E7%9A%84%E5%89%AF%E6%9C%AC.ipynb\" target=\"_parent\"><img src=\"https://colab.research.google.com/assets/colab-badge.svg\" alt=\"Open In Colab\"/></a>"
      ]
    },
    {
      "cell_type": "code",
      "metadata": {
        "id": "ej0eV0mIVrTl",
        "outputId": "0429e693-e8fb-4838-abb5-1628a3c76d78",
        "colab": {
          "base_uri": "https://localhost:8080/",
          "height": 68
        }
      },
      "source": [
        "a <- 5 \n",
        "b <- 3.8\n",
        "c <- -1\n",
        "str(a)\n",
        "str(b)\n",
        "str(c)"
      ],
      "execution_count": null,
      "outputs": [
        {
          "output_type": "stream",
          "text": [
            " num 5\n",
            " num 3.8\n",
            " num -1\n"
          ],
          "name": "stdout"
        }
      ]
    },
    {
      "cell_type": "code",
      "metadata": {
        "id": "l3tQlD1qXJmt",
        "outputId": "0f14b918-204f-418a-9f6e-88b6a6e9c041",
        "colab": {
          "base_uri": "https://localhost:8080/",
          "height": 85
        }
      },
      "source": [
        "is.numeric(a)\n",
        "is.numeric(b)\n",
        "is.integer(a)\n",
        "is.integer(b)"
      ],
      "execution_count": null,
      "outputs": [
        {
          "output_type": "display_data",
          "data": {
            "text/plain": [
              "[1] TRUE"
            ],
            "text/latex": "TRUE",
            "text/markdown": "TRUE",
            "text/html": [
              "TRUE"
            ]
          },
          "metadata": {
            "tags": []
          }
        },
        {
          "output_type": "display_data",
          "data": {
            "text/plain": [
              "[1] TRUE"
            ],
            "text/latex": "TRUE",
            "text/markdown": "TRUE",
            "text/html": [
              "TRUE"
            ]
          },
          "metadata": {
            "tags": []
          }
        },
        {
          "output_type": "display_data",
          "data": {
            "text/plain": [
              "[1] FALSE"
            ],
            "text/latex": "FALSE",
            "text/markdown": "FALSE",
            "text/html": [
              "FALSE"
            ]
          },
          "metadata": {
            "tags": []
          }
        },
        {
          "output_type": "display_data",
          "data": {
            "text/plain": [
              "[1] FALSE"
            ],
            "text/latex": "FALSE",
            "text/markdown": "FALSE",
            "text/html": [
              "FALSE"
            ]
          },
          "metadata": {
            "tags": []
          }
        }
      ]
    },
    {
      "cell_type": "code",
      "metadata": {
        "id": "HVJBB95_X3tJ",
        "outputId": "991b8e74-5b95-4266-c16c-e58802cdfbdd",
        "colab": {
          "base_uri": "https://localhost:8080/",
          "height": 51
        }
      },
      "source": [
        "d <- \"Hello\"\n",
        "e <- \"HI\"\n",
        "str(d)\n",
        "str(e)"
      ],
      "execution_count": null,
      "outputs": [
        {
          "output_type": "stream",
          "text": [
            " chr \"Hello\"\n",
            " chr \"HI\"\n"
          ],
          "name": "stdout"
        }
      ]
    },
    {
      "cell_type": "code",
      "metadata": {
        "id": "jIDfiIYNZemW",
        "outputId": "14006c3e-a85b-4471-db38-bbb5c470fe1a",
        "colab": {
          "base_uri": "https://localhost:8080/",
          "height": 85
        }
      },
      "source": [
        "f <- c(5,4,3,2,1)\n",
        "g <- c(\"蔡英文\" , \"賴清德\" , \"蘇貞昌\")\n",
        "\n",
        "f[2]\n",
        "g[3]\n",
        "g[c(1,2)]\n",
        "g[c(2,3)]"
      ],
      "execution_count": null,
      "outputs": [
        {
          "output_type": "display_data",
          "data": {
            "text/plain": [
              "[1] 2"
            ],
            "text/latex": "2",
            "text/markdown": "2",
            "text/html": [
              "2"
            ]
          },
          "metadata": {
            "tags": []
          }
        },
        {
          "output_type": "display_data",
          "data": {
            "text/plain": [
              "[1] \"蘇貞昌\""
            ],
            "text/latex": "'蘇貞昌'",
            "text/markdown": "'蘇貞昌'",
            "text/html": [
              "'蘇貞昌'"
            ]
          },
          "metadata": {
            "tags": []
          }
        },
        {
          "output_type": "display_data",
          "data": {
            "text/plain": [
              "[1] \"蔡英文\" \"賴清德\""
            ],
            "text/latex": "\\begin{enumerate*}\n\\item '蔡英文'\n\\item '賴清德'\n\\end{enumerate*}\n",
            "text/markdown": "1. '蔡英文'\n2. '賴清德'\n\n\n",
            "text/html": [
              "<style>\n",
              ".list-inline {list-style: none; margin:0; padding: 0}\n",
              ".list-inline>li {display: inline-block}\n",
              ".list-inline>li:not(:last-child)::after {content: \"\\00b7\"; padding: 0 .5ex}\n",
              "</style>\n",
              "<ol class=list-inline><li>'蔡英文'</li><li>'賴清德'</li></ol>\n"
            ]
          },
          "metadata": {
            "tags": []
          }
        },
        {
          "output_type": "display_data",
          "data": {
            "text/plain": [
              "[1] \"賴清德\" \"蘇貞昌\""
            ],
            "text/latex": "\\begin{enumerate*}\n\\item '賴清德'\n\\item '蘇貞昌'\n\\end{enumerate*}\n",
            "text/markdown": "1. '賴清德'\n2. '蘇貞昌'\n\n\n",
            "text/html": [
              "<style>\n",
              ".list-inline {list-style: none; margin:0; padding: 0}\n",
              ".list-inline>li {display: inline-block}\n",
              ".list-inline>li:not(:last-child)::after {content: \"\\00b7\"; padding: 0 .5ex}\n",
              "</style>\n",
              "<ol class=list-inline><li>'賴清德'</li><li>'蘇貞昌'</li></ol>\n"
            ]
          },
          "metadata": {
            "tags": []
          }
        }
      ]
    },
    {
      "cell_type": "code",
      "metadata": {
        "id": "RzR5RE6NbAId",
        "outputId": "36f1d007-743e-4869-a7a7-d5bb9c215741",
        "colab": {
          "base_uri": "https://localhost:8080/",
          "height": 68
        }
      },
      "source": [
        "h <- c(1,2,3,4,5,6,7,8,9)\n",
        "i <- c(2,3,4,5,6,7,8,9,10)\n",
        "\n",
        "h * 3\n",
        "i^3\n",
        "i > 5"
      ],
      "execution_count": null,
      "outputs": [
        {
          "output_type": "display_data",
          "data": {
            "text/plain": [
              "[1]  3  6  9 12 15 18 21 24 27"
            ],
            "text/latex": "\\begin{enumerate*}\n\\item 3\n\\item 6\n\\item 9\n\\item 12\n\\item 15\n\\item 18\n\\item 21\n\\item 24\n\\item 27\n\\end{enumerate*}\n",
            "text/markdown": "1. 3\n2. 6\n3. 9\n4. 12\n5. 15\n6. 18\n7. 21\n8. 24\n9. 27\n\n\n",
            "text/html": [
              "<style>\n",
              ".list-inline {list-style: none; margin:0; padding: 0}\n",
              ".list-inline>li {display: inline-block}\n",
              ".list-inline>li:not(:last-child)::after {content: \"\\00b7\"; padding: 0 .5ex}\n",
              "</style>\n",
              "<ol class=list-inline><li>3</li><li>6</li><li>9</li><li>12</li><li>15</li><li>18</li><li>21</li><li>24</li><li>27</li></ol>\n"
            ]
          },
          "metadata": {
            "tags": []
          }
        },
        {
          "output_type": "display_data",
          "data": {
            "text/plain": [
              "[1]    8   27   64  125  216  343  512  729 1000"
            ],
            "text/latex": "\\begin{enumerate*}\n\\item 8\n\\item 27\n\\item 64\n\\item 125\n\\item 216\n\\item 343\n\\item 512\n\\item 729\n\\item 1000\n\\end{enumerate*}\n",
            "text/markdown": "1. 8\n2. 27\n3. 64\n4. 125\n5. 216\n6. 343\n7. 512\n8. 729\n9. 1000\n\n\n",
            "text/html": [
              "<style>\n",
              ".list-inline {list-style: none; margin:0; padding: 0}\n",
              ".list-inline>li {display: inline-block}\n",
              ".list-inline>li:not(:last-child)::after {content: \"\\00b7\"; padding: 0 .5ex}\n",
              "</style>\n",
              "<ol class=list-inline><li>8</li><li>27</li><li>64</li><li>125</li><li>216</li><li>343</li><li>512</li><li>729</li><li>1000</li></ol>\n"
            ]
          },
          "metadata": {
            "tags": []
          }
        },
        {
          "output_type": "display_data",
          "data": {
            "text/plain": [
              "[1] FALSE FALSE FALSE FALSE  TRUE  TRUE  TRUE  TRUE  TRUE"
            ],
            "text/latex": "\\begin{enumerate*}\n\\item FALSE\n\\item FALSE\n\\item FALSE\n\\item FALSE\n\\item TRUE\n\\item TRUE\n\\item TRUE\n\\item TRUE\n\\item TRUE\n\\end{enumerate*}\n",
            "text/markdown": "1. FALSE\n2. FALSE\n3. FALSE\n4. FALSE\n5. TRUE\n6. TRUE\n7. TRUE\n8. TRUE\n9. TRUE\n\n\n",
            "text/html": [
              "<style>\n",
              ".list-inline {list-style: none; margin:0; padding: 0}\n",
              ".list-inline>li {display: inline-block}\n",
              ".list-inline>li:not(:last-child)::after {content: \"\\00b7\"; padding: 0 .5ex}\n",
              "</style>\n",
              "<ol class=list-inline><li>FALSE</li><li>FALSE</li><li>FALSE</li><li>FALSE</li><li>TRUE</li><li>TRUE</li><li>TRUE</li><li>TRUE</li><li>TRUE</li></ol>\n"
            ]
          },
          "metadata": {
            "tags": []
          }
        }
      ]
    },
    {
      "cell_type": "code",
      "metadata": {
        "id": "jCZQnXVtblwZ",
        "outputId": "730cd1ad-fb71-4a90-e00f-d9db12043b2e",
        "colab": {
          "base_uri": "https://localhost:8080/",
          "height": 68
        }
      },
      "source": [
        "gender <- c(\"男\",\"女\",\"男\",\"男\",\"女\",\"中\")\n",
        "gender <- factor(gender)\n",
        "gender \n",
        "levels(gender)"
      ],
      "execution_count": null,
      "outputs": [
        {
          "output_type": "display_data",
          "data": {
            "text/plain": [
              "[1] 男 女 男 男 女 中\n",
              "Levels: 中 女 男"
            ],
            "text/latex": "\\begin{enumerate*}\n\\item 男\n\\item 女\n\\item 男\n\\item 男\n\\item 女\n\\item 中\n\\end{enumerate*}\n\n\\emph{Levels}: \\begin{enumerate*}\n\\item '中'\n\\item '女'\n\\item '男'\n\\end{enumerate*}\n",
            "text/markdown": "1. 男\n2. 女\n3. 男\n4. 男\n5. 女\n6. 中\n\n\n\n**Levels**: 1. '中'\n2. '女'\n3. '男'\n\n\n",
            "text/html": [
              "<style>\n",
              ".list-inline {list-style: none; margin:0; padding: 0}\n",
              ".list-inline>li {display: inline-block}\n",
              ".list-inline>li:not(:last-child)::after {content: \"\\00b7\"; padding: 0 .5ex}\n",
              "</style>\n",
              "<ol class=list-inline><li>男</li><li>女</li><li>男</li><li>男</li><li>女</li><li>中</li></ol>\n",
              "\n",
              "<details>\n",
              "\t<summary style=display:list-item;cursor:pointer>\n",
              "\t\t<strong>Levels</strong>:\n",
              "\t</summary>\n",
              "\t<style>\n",
              "\t.list-inline {list-style: none; margin:0; padding: 0}\n",
              "\t.list-inline>li {display: inline-block}\n",
              "\t.list-inline>li:not(:last-child)::after {content: \"\\00b7\"; padding: 0 .5ex}\n",
              "\t</style>\n",
              "\t<ol class=list-inline><li>'中'</li><li>'女'</li><li>'男'</li></ol>\n",
              "</details>"
            ]
          },
          "metadata": {
            "tags": []
          }
        },
        {
          "output_type": "display_data",
          "data": {
            "text/plain": [
              "[1] \"中\" \"女\" \"男\""
            ],
            "text/latex": "\\begin{enumerate*}\n\\item '中'\n\\item '女'\n\\item '男'\n\\end{enumerate*}\n",
            "text/markdown": "1. '中'\n2. '女'\n3. '男'\n\n\n",
            "text/html": [
              "<style>\n",
              ".list-inline {list-style: none; margin:0; padding: 0}\n",
              ".list-inline>li {display: inline-block}\n",
              ".list-inline>li:not(:last-child)::after {content: \"\\00b7\"; padding: 0 .5ex}\n",
              "</style>\n",
              "<ol class=list-inline><li>'中'</li><li>'女'</li><li>'男'</li></ol>\n"
            ]
          },
          "metadata": {
            "tags": []
          }
        }
      ]
    },
    {
      "cell_type": "code",
      "metadata": {
        "id": "A05tpkMCfMeG",
        "outputId": "dd9839af-73da-4f21-a834-3948a7e1f926",
        "colab": {
          "base_uri": "https://localhost:8080/",
          "height": 296
        }
      },
      "source": [
        "j <- matrix(c(1:6), nrow=3, ncol=2)\n",
        "j\n",
        "k <- matrix(c(7:12), nrow=2, ncol=3)\n",
        "k\n"
      ],
      "execution_count": null,
      "outputs": [
        {
          "output_type": "display_data",
          "data": {
            "text/plain": [
              "     [,1] [,2]\n",
              "[1,] 1    4   \n",
              "[2,] 2    5   \n",
              "[3,] 3    6   "
            ],
            "text/latex": "A matrix: 3 × 2 of type int\n\\begin{tabular}{ll}\n\t 1 & 4\\\\\n\t 2 & 5\\\\\n\t 3 & 6\\\\\n\\end{tabular}\n",
            "text/markdown": "\nA matrix: 3 × 2 of type int\n\n| 1 | 4 |\n| 2 | 5 |\n| 3 | 6 |\n\n",
            "text/html": [
              "<table>\n",
              "<caption>A matrix: 3 × 2 of type int</caption>\n",
              "<tbody>\n",
              "\t<tr><td>1</td><td>4</td></tr>\n",
              "\t<tr><td>2</td><td>5</td></tr>\n",
              "\t<tr><td>3</td><td>6</td></tr>\n",
              "</tbody>\n",
              "</table>\n"
            ]
          },
          "metadata": {
            "tags": []
          }
        },
        {
          "output_type": "display_data",
          "data": {
            "text/plain": [
              "     [,1] [,2] [,3]\n",
              "[1,] 7     9   11  \n",
              "[2,] 8    10   12  "
            ],
            "text/latex": "A matrix: 2 × 3 of type int\n\\begin{tabular}{lll}\n\t 7 &  9 & 11\\\\\n\t 8 & 10 & 12\\\\\n\\end{tabular}\n",
            "text/markdown": "\nA matrix: 2 × 3 of type int\n\n| 7 |  9 | 11 |\n| 8 | 10 | 12 |\n\n",
            "text/html": [
              "<table>\n",
              "<caption>A matrix: 2 × 3 of type int</caption>\n",
              "<tbody>\n",
              "\t<tr><td>7</td><td> 9</td><td>11</td></tr>\n",
              "\t<tr><td>8</td><td>10</td><td>12</td></tr>\n",
              "</tbody>\n",
              "</table>\n"
            ]
          },
          "metadata": {
            "tags": []
          }
        }
      ]
    },
    {
      "cell_type": "code",
      "metadata": {
        "id": "Vwr3FfA9go4w",
        "outputId": "60bc7956-f60f-4a59-a27b-35d2a4f9e4a5",
        "colab": {
          "base_uri": "https://localhost:8080/",
          "height": 68
        }
      },
      "source": [
        "j[2,2]\n",
        "j[2,]\n",
        "j[,2]"
      ],
      "execution_count": null,
      "outputs": [
        {
          "output_type": "display_data",
          "data": {
            "text/plain": [
              "[1] 5"
            ],
            "text/latex": "5",
            "text/markdown": "5",
            "text/html": [
              "5"
            ]
          },
          "metadata": {
            "tags": []
          }
        },
        {
          "output_type": "display_data",
          "data": {
            "text/plain": [
              "[1] 2 5"
            ],
            "text/latex": "\\begin{enumerate*}\n\\item 2\n\\item 5\n\\end{enumerate*}\n",
            "text/markdown": "1. 2\n2. 5\n\n\n",
            "text/html": [
              "<style>\n",
              ".list-inline {list-style: none; margin:0; padding: 0}\n",
              ".list-inline>li {display: inline-block}\n",
              ".list-inline>li:not(:last-child)::after {content: \"\\00b7\"; padding: 0 .5ex}\n",
              "</style>\n",
              "<ol class=list-inline><li>2</li><li>5</li></ol>\n"
            ]
          },
          "metadata": {
            "tags": []
          }
        },
        {
          "output_type": "display_data",
          "data": {
            "text/plain": [
              "[1] 4 5 6"
            ],
            "text/latex": "\\begin{enumerate*}\n\\item 4\n\\item 5\n\\item 6\n\\end{enumerate*}\n",
            "text/markdown": "1. 4\n2. 5\n3. 6\n\n\n",
            "text/html": [
              "<style>\n",
              ".list-inline {list-style: none; margin:0; padding: 0}\n",
              ".list-inline>li {display: inline-block}\n",
              ".list-inline>li:not(:last-child)::after {content: \"\\00b7\"; padding: 0 .5ex}\n",
              "</style>\n",
              "<ol class=list-inline><li>4</li><li>5</li><li>6</li></ol>\n"
            ]
          },
          "metadata": {
            "tags": []
          }
        }
      ]
    },
    {
      "cell_type": "code",
      "metadata": {
        "id": "vMLqfrAkhFdu",
        "outputId": "10cc29de-18d2-4379-a8e1-3f75dc2b4a54",
        "colab": {
          "base_uri": "https://localhost:8080/",
          "height": 68
        }
      },
      "source": [
        "k[2,2]\n",
        "k[2,]\n",
        "k[,3]"
      ],
      "execution_count": null,
      "outputs": [
        {
          "output_type": "display_data",
          "data": {
            "text/plain": [
              "[1] 10"
            ],
            "text/latex": "10",
            "text/markdown": "10",
            "text/html": [
              "10"
            ]
          },
          "metadata": {
            "tags": []
          }
        },
        {
          "output_type": "display_data",
          "data": {
            "text/plain": [
              "[1]  8 10 12"
            ],
            "text/latex": "\\begin{enumerate*}\n\\item 8\n\\item 10\n\\item 12\n\\end{enumerate*}\n",
            "text/markdown": "1. 8\n2. 10\n3. 12\n\n\n",
            "text/html": [
              "<style>\n",
              ".list-inline {list-style: none; margin:0; padding: 0}\n",
              ".list-inline>li {display: inline-block}\n",
              ".list-inline>li:not(:last-child)::after {content: \"\\00b7\"; padding: 0 .5ex}\n",
              "</style>\n",
              "<ol class=list-inline><li>8</li><li>10</li><li>12</li></ol>\n"
            ]
          },
          "metadata": {
            "tags": []
          }
        },
        {
          "output_type": "display_data",
          "data": {
            "text/plain": [
              "[1] 11 12"
            ],
            "text/latex": "\\begin{enumerate*}\n\\item 11\n\\item 12\n\\end{enumerate*}\n",
            "text/markdown": "1. 11\n2. 12\n\n\n",
            "text/html": [
              "<style>\n",
              ".list-inline {list-style: none; margin:0; padding: 0}\n",
              ".list-inline>li {display: inline-block}\n",
              ".list-inline>li:not(:last-child)::after {content: \"\\00b7\"; padding: 0 .5ex}\n",
              "</style>\n",
              "<ol class=list-inline><li>11</li><li>12</li></ol>\n"
            ]
          },
          "metadata": {
            "tags": []
          }
        }
      ]
    },
    {
      "cell_type": "code",
      "metadata": {
        "id": "W_ngYiVuhqFJ",
        "outputId": "8875ffae-228a-4156-fbbf-76f624d6a0b9",
        "colab": {
          "base_uri": "https://localhost:8080/",
          "height": 183
        }
      },
      "source": [
        "tmp <- data.frame(Student_ID=c(1,2,3,4,5),\n",
        "          name=c(\"Hellen\", \"Lun\", \"Leo\", \"Kevin\", \"Tommy\"),\n",
        "          score=c(80,36,88.9,97.5,60))\n",
        "tmp\n"
      ],
      "execution_count": null,
      "outputs": [
        {
          "output_type": "display_data",
          "data": {
            "text/plain": [
              "  Student_ID name   score\n",
              "1 1          Hellen 80.0 \n",
              "2 2          Lun    36.0 \n",
              "3 3          Leo    88.9 \n",
              "4 4          Kevin  97.5 \n",
              "5 5          Tommy  60.0 "
            ],
            "text/latex": "A data.frame: 5 × 3\n\\begin{tabular}{lll}\n Student\\_ID & name & score\\\\\n <dbl> & <chr> & <dbl>\\\\\n\\hline\n\t 1 & Hellen & 80.0\\\\\n\t 2 & Lun    & 36.0\\\\\n\t 3 & Leo    & 88.9\\\\\n\t 4 & Kevin  & 97.5\\\\\n\t 5 & Tommy  & 60.0\\\\\n\\end{tabular}\n",
            "text/markdown": "\nA data.frame: 5 × 3\n\n| Student_ID &lt;dbl&gt; | name &lt;chr&gt; | score &lt;dbl&gt; |\n|---|---|---|\n| 1 | Hellen | 80.0 |\n| 2 | Lun    | 36.0 |\n| 3 | Leo    | 88.9 |\n| 4 | Kevin  | 97.5 |\n| 5 | Tommy  | 60.0 |\n\n",
            "text/html": [
              "<table>\n",
              "<caption>A data.frame: 5 × 3</caption>\n",
              "<thead>\n",
              "\t<tr><th scope=col>Student_ID</th><th scope=col>name</th><th scope=col>score</th></tr>\n",
              "\t<tr><th scope=col>&lt;dbl&gt;</th><th scope=col>&lt;chr&gt;</th><th scope=col>&lt;dbl&gt;</th></tr>\n",
              "</thead>\n",
              "<tbody>\n",
              "\t<tr><td>1</td><td>Hellen</td><td>80.0</td></tr>\n",
              "\t<tr><td>2</td><td>Lun   </td><td>36.0</td></tr>\n",
              "\t<tr><td>3</td><td>Leo   </td><td>88.9</td></tr>\n",
              "\t<tr><td>4</td><td>Kevin </td><td>97.5</td></tr>\n",
              "\t<tr><td>5</td><td>Tommy </td><td>60.0</td></tr>\n",
              "</tbody>\n",
              "</table>\n"
            ]
          },
          "metadata": {
            "tags": []
          }
        }
      ]
    },
    {
      "cell_type": "code",
      "metadata": {
        "id": "8ooBRyfCjL0L",
        "outputId": "283b3a8b-8554-4d3c-bfcf-0300d6f6fbe0",
        "colab": {
          "base_uri": "https://localhost:8080/",
          "height": 268
        }
      },
      "source": [
        "tmp[2,3]\n",
        "tmp[,2]\n",
        "tmp$name == \"Kevin\"\n",
        "tmp[tmp$name == \"Lun\"]"
      ],
      "execution_count": null,
      "outputs": [
        {
          "output_type": "display_data",
          "data": {
            "text/plain": [
              "[1] 36"
            ],
            "text/latex": "36",
            "text/markdown": "36",
            "text/html": [
              "36"
            ]
          },
          "metadata": {
            "tags": []
          }
        },
        {
          "output_type": "display_data",
          "data": {
            "text/plain": [
              "[1] \"Hellen\" \"Lun\"    \"Leo\"    \"Kevin\"  \"Tommy\" "
            ],
            "text/latex": "\\begin{enumerate*}\n\\item 'Hellen'\n\\item 'Lun'\n\\item 'Leo'\n\\item 'Kevin'\n\\item 'Tommy'\n\\end{enumerate*}\n",
            "text/markdown": "1. 'Hellen'\n2. 'Lun'\n3. 'Leo'\n4. 'Kevin'\n5. 'Tommy'\n\n\n",
            "text/html": [
              "<style>\n",
              ".list-inline {list-style: none; margin:0; padding: 0}\n",
              ".list-inline>li {display: inline-block}\n",
              ".list-inline>li:not(:last-child)::after {content: \"\\00b7\"; padding: 0 .5ex}\n",
              "</style>\n",
              "<ol class=list-inline><li>'Hellen'</li><li>'Lun'</li><li>'Leo'</li><li>'Kevin'</li><li>'Tommy'</li></ol>\n"
            ]
          },
          "metadata": {
            "tags": []
          }
        },
        {
          "output_type": "display_data",
          "data": {
            "text/plain": [
              "[1] FALSE FALSE FALSE  TRUE FALSE"
            ],
            "text/latex": "\\begin{enumerate*}\n\\item FALSE\n\\item FALSE\n\\item FALSE\n\\item TRUE\n\\item FALSE\n\\end{enumerate*}\n",
            "text/markdown": "1. FALSE\n2. FALSE\n3. FALSE\n4. TRUE\n5. FALSE\n\n\n",
            "text/html": [
              "<style>\n",
              ".list-inline {list-style: none; margin:0; padding: 0}\n",
              ".list-inline>li {display: inline-block}\n",
              ".list-inline>li:not(:last-child)::after {content: \"\\00b7\"; padding: 0 .5ex}\n",
              "</style>\n",
              "<ol class=list-inline><li>FALSE</li><li>FALSE</li><li>FALSE</li><li>TRUE</li><li>FALSE</li></ol>\n"
            ]
          },
          "metadata": {
            "tags": []
          }
        },
        {
          "output_type": "display_data",
          "data": {
            "text/plain": [
              "  name  \n",
              "1 Hellen\n",
              "2 Lun   \n",
              "3 Leo   \n",
              "4 Kevin \n",
              "5 Tommy "
            ],
            "text/latex": "A data.frame: 5 × 1\n\\begin{tabular}{l}\n name\\\\\n <chr>\\\\\n\\hline\n\t Hellen\\\\\n\t Lun   \\\\\n\t Leo   \\\\\n\t Kevin \\\\\n\t Tommy \\\\\n\\end{tabular}\n",
            "text/markdown": "\nA data.frame: 5 × 1\n\n| name &lt;chr&gt; |\n|---|\n| Hellen |\n| Lun    |\n| Leo    |\n| Kevin  |\n| Tommy  |\n\n",
            "text/html": [
              "<table>\n",
              "<caption>A data.frame: 5 × 1</caption>\n",
              "<thead>\n",
              "\t<tr><th scope=col>name</th></tr>\n",
              "\t<tr><th scope=col>&lt;chr&gt;</th></tr>\n",
              "</thead>\n",
              "<tbody>\n",
              "\t<tr><td>Hellen</td></tr>\n",
              "\t<tr><td>Lun   </td></tr>\n",
              "\t<tr><td>Leo   </td></tr>\n",
              "\t<tr><td>Kevin </td></tr>\n",
              "\t<tr><td>Tommy </td></tr>\n",
              "</tbody>\n",
              "</table>\n"
            ]
          },
          "metadata": {
            "tags": []
          }
        }
      ]
    },
    {
      "cell_type": "code",
      "metadata": {
        "id": "3Na3FWzajon6",
        "outputId": "e3ede549-4354-44b4-eac4-1a7702887bb1",
        "colab": {
          "base_uri": "https://localhost:8080/",
          "height": 99
        }
      },
      "source": [
        "tmp[5,]"
      ],
      "execution_count": null,
      "outputs": [
        {
          "output_type": "display_data",
          "data": {
            "text/plain": [
              "  Student_ID name  score\n",
              "5 5          Tommy 60   "
            ],
            "text/latex": "A data.frame: 1 × 3\n\\begin{tabular}{r|lll}\n  & Student\\_ID & name & score\\\\\n  & <dbl> & <chr> & <dbl>\\\\\n\\hline\n\t5 & 5 & Tommy & 60\\\\\n\\end{tabular}\n",
            "text/markdown": "\nA data.frame: 1 × 3\n\n| <!--/--> | Student_ID &lt;dbl&gt; | name &lt;chr&gt; | score &lt;dbl&gt; |\n|---|---|---|---|\n| 5 | 5 | Tommy | 60 |\n\n",
            "text/html": [
              "<table>\n",
              "<caption>A data.frame: 1 × 3</caption>\n",
              "<thead>\n",
              "\t<tr><th></th><th scope=col>Student_ID</th><th scope=col>name</th><th scope=col>score</th></tr>\n",
              "\t<tr><th></th><th scope=col>&lt;dbl&gt;</th><th scope=col>&lt;chr&gt;</th><th scope=col>&lt;dbl&gt;</th></tr>\n",
              "</thead>\n",
              "<tbody>\n",
              "\t<tr><th scope=row>5</th><td>5</td><td>Tommy</td><td>60</td></tr>\n",
              "</tbody>\n",
              "</table>\n"
            ]
          },
          "metadata": {
            "tags": []
          }
        }
      ]
    },
    {
      "cell_type": "code",
      "metadata": {
        "id": "e7pMKD7Jj24S",
        "outputId": "6175c5bd-2dd6-4f74-c9d5-150523b593cc",
        "colab": {
          "base_uri": "https://localhost:8080/",
          "height": 68
        }
      },
      "source": [
        "install.packages(\"SportsAnalytics\")\n",
        "\n"
      ],
      "execution_count": null,
      "outputs": [
        {
          "output_type": "stream",
          "text": [
            "Installing package into ‘/usr/local/lib/R/site-library’\n",
            "(as ‘lib’ is unspecified)\n",
            "\n"
          ],
          "name": "stderr"
        }
      ]
    },
    {
      "cell_type": "code",
      "metadata": {
        "id": "EIPGJW6QmjYp"
      },
      "source": [
        "library(SportsAnalytics)\n",
        "\n",
        "NBA1516<-fetch_NBAPlayerStatistics(\"15-16\")\n",
        "\n"
      ],
      "execution_count": null,
      "outputs": []
    },
    {
      "cell_type": "code",
      "metadata": {
        "id": "w6b99HGQkvW5",
        "outputId": "a38d9130-7937-470b-e116-1b84212f0e88",
        "colab": {
          "base_uri": "https://localhost:8080/",
          "height": 634
        }
      },
      "source": [
        "NBA15160rder<-NBA1516[order(NBA1516$GamesPlayed,decreasing = T),]\n",
        "NBA15160rder[1:20,]"
      ],
      "execution_count": null,
      "outputs": [
        {
          "output_type": "display_data",
          "data": {
            "text/plain": [
              "    League Name             Team Position GamesPlayed TotalMinutesPlayed\n",
              "11  NBA    Al-farouq Aminu  POR  SF       82          2342              \n",
              "37  NBA    Will Barton      DEN  SG       82          2355              \n",
              "48  NBA    Bismack Biyombo  TOR  PF       82          1810              \n",
              "62  NBA    Corey Brewer     HOU  SG       82          1670              \n",
              "118 NBA    Gorgui Dieng     MIN  C        82          2222              \n",
              "148 NBA    Langsto Galloway NYK  PG       82          2032              \n",
              "178 NBA    James Harden     HOU  SG       82          3121              \n",
              "208 NBA    Al Horford       ATL  PF       82          2638              \n",
              "246 NBA    Enes Kanter      OKL  C        82          1721              \n",
              "259 NBA    Zach Lavine      MIN  PG       82          2295              \n",
              "272 NBA    Robin Lopez      NYK  C        82          2213              \n",
              "320 NBA    Shabazz Muhammad MIN  SF       82          1678              \n",
              "357 NBA    Mason Plumlee    POR  PF       82          2087              \n",
              "394 NBA    Ramon Sessions   WAS  PG       82          1667              \n",
              "422 NBA    Isaiah Thomas    BOS  PG       82          2647              \n",
              "427 NBA    Tristan Thompson CLE  C        82          2269              \n",
              "431 NBA    Karl-antho Towns MIN  C        82          2621              \n",
              "432 NBA    P.j. Tucker      PHO  SF       82          2540              \n",
              "24  NBA    Trevor Ariza     HOU  SF       81          2860              \n",
              "41  NBA    Aron Baynes      DET  PF       81          1241              \n",
              "    FieldGoalsMade FieldGoalsAttempted ThreesMade ThreesAttempted ⋯ Steals\n",
              "11  299             719                126        349             ⋯  72   \n",
              "37  426             984                112        324             ⋯  71   \n",
              "48  156             288                  0          1             ⋯  19   \n",
              "62  212             552                 61        225             ⋯  84   \n",
              "118 308             578                  6         20             ⋯  94   \n",
              "148 231             588                 77        224             ⋯  77   \n",
              "178 710            1617                236        656             ⋯ 138   \n",
              "208 529            1049                 88        257             ⋯  67   \n",
              "246 415             720                 10         21             ⋯  26   \n",
              "259 433             960                123        316             ⋯  69   \n",
              "272 357             662                  0          1             ⋯  16   \n",
              "320 317             681                 44        152             ⋯  24   \n",
              "357 267             517                  0          4             ⋯  68   \n",
              "394 280             592                 36        111             ⋯  47   \n",
              "422 591            1382                167        465             ⋯  91   \n",
              "427 247             420                  0          0             ⋯  38   \n",
              "431 625            1152                 30         88             ⋯  58   \n",
              "432 239             582                 68        206             ⋯ 106   \n",
              "24  357             858                185        497             ⋯ 161   \n",
              "41  194             384                  0          2             ⋯  21   \n",
              "    Turnovers Blocks PersonalFouls Disqualifications TotalPoints Technicals\n",
              "11  120        53    171           0                  839        3         \n",
              "37  139        39    147           0                 1180        2         \n",
              "48   71       133    225           2                  454        3         \n",
              "62   78        19    168           1                  590        0         \n",
              "118 140        96    219           0                  827        1         \n",
              "148  61        22    177           2                  625        0         \n",
              "178 374        51    229           1                 2376        2         \n",
              "208 107       122    163           0                 1249        1         \n",
              "246 115        33    166           1                 1040        2         \n",
              "259 155        17    193           1                 1150        0         \n",
              "272 133       129    182           2                  842        3         \n",
              "320  70         7     94           0                  863        0         \n",
              "357 154        82    253           4                  749        1         \n",
              "394 115         5    102           0                  810        0         \n",
              "422 220         9    167           1                 1823        9         \n",
              "427  61        51    202           0                  643        1         \n",
              "431 183       138    245           1                 1503        2         \n",
              "432 111        20    202           3                  652        4         \n",
              "24  113        26    177           0                 1025        2         \n",
              "41   67        52    151           0                  514        0         \n",
              "    Ejections FlagrantFouls GamesStarted\n",
              "11  0         0             82          \n",
              "37  0         0              1          \n",
              "48  0         0             22          \n",
              "62  0         0             12          \n",
              "118 0         0             39          \n",
              "148 0         0              7          \n",
              "178 0         0             82          \n",
              "208 0         0             82          \n",
              "246 0         0              1          \n",
              "259 0         0             33          \n",
              "272 0         0             82          \n",
              "320 0         0              0          \n",
              "357 0         0             82          \n",
              "394 0         0              5          \n",
              "422 0         0             79          \n",
              "427 0         0             34          \n",
              "431 0         0             82          \n",
              "432 0         0             80          \n",
              "24  0         0             81          \n",
              "41  0         0              1          "
            ],
            "text/latex": "A data.frame: 20 × 25\n\\begin{tabular}{r|lllllllllllllllllllll}\n  & League & Name & Team & Position & GamesPlayed & TotalMinutesPlayed & FieldGoalsMade & FieldGoalsAttempted & ThreesMade & ThreesAttempted & ⋯ & Steals & Turnovers & Blocks & PersonalFouls & Disqualifications & TotalPoints & Technicals & Ejections & FlagrantFouls & GamesStarted\\\\\n  & <fct> & <chr> & <fct> & <fct> & <int> & <int> & <int> & <int> & <int> & <int> & ⋯ & <int> & <int> & <int> & <int> & <int> & <int> & <int> & <int> & <int> & <int>\\\\\n\\hline\n\t11 & NBA & Al-farouq Aminu  & POR & SF & 82 & 2342 & 299 &  719 & 126 & 349 & ⋯ &  72 & 120 &  53 & 171 & 0 &  839 & 3 & 0 & 0 & 82\\\\\n\t37 & NBA & Will Barton      & DEN & SG & 82 & 2355 & 426 &  984 & 112 & 324 & ⋯ &  71 & 139 &  39 & 147 & 0 & 1180 & 2 & 0 & 0 &  1\\\\\n\t48 & NBA & Bismack Biyombo  & TOR & PF & 82 & 1810 & 156 &  288 &   0 &   1 & ⋯ &  19 &  71 & 133 & 225 & 2 &  454 & 3 & 0 & 0 & 22\\\\\n\t62 & NBA & Corey Brewer     & HOU & SG & 82 & 1670 & 212 &  552 &  61 & 225 & ⋯ &  84 &  78 &  19 & 168 & 1 &  590 & 0 & 0 & 0 & 12\\\\\n\t118 & NBA & Gorgui Dieng     & MIN & C  & 82 & 2222 & 308 &  578 &   6 &  20 & ⋯ &  94 & 140 &  96 & 219 & 0 &  827 & 1 & 0 & 0 & 39\\\\\n\t148 & NBA & Langsto Galloway & NYK & PG & 82 & 2032 & 231 &  588 &  77 & 224 & ⋯ &  77 &  61 &  22 & 177 & 2 &  625 & 0 & 0 & 0 &  7\\\\\n\t178 & NBA & James Harden     & HOU & SG & 82 & 3121 & 710 & 1617 & 236 & 656 & ⋯ & 138 & 374 &  51 & 229 & 1 & 2376 & 2 & 0 & 0 & 82\\\\\n\t208 & NBA & Al Horford       & ATL & PF & 82 & 2638 & 529 & 1049 &  88 & 257 & ⋯ &  67 & 107 & 122 & 163 & 0 & 1249 & 1 & 0 & 0 & 82\\\\\n\t246 & NBA & Enes Kanter      & OKL & C  & 82 & 1721 & 415 &  720 &  10 &  21 & ⋯ &  26 & 115 &  33 & 166 & 1 & 1040 & 2 & 0 & 0 &  1\\\\\n\t259 & NBA & Zach Lavine      & MIN & PG & 82 & 2295 & 433 &  960 & 123 & 316 & ⋯ &  69 & 155 &  17 & 193 & 1 & 1150 & 0 & 0 & 0 & 33\\\\\n\t272 & NBA & Robin Lopez      & NYK & C  & 82 & 2213 & 357 &  662 &   0 &   1 & ⋯ &  16 & 133 & 129 & 182 & 2 &  842 & 3 & 0 & 0 & 82\\\\\n\t320 & NBA & Shabazz Muhammad & MIN & SF & 82 & 1678 & 317 &  681 &  44 & 152 & ⋯ &  24 &  70 &   7 &  94 & 0 &  863 & 0 & 0 & 0 &  0\\\\\n\t357 & NBA & Mason Plumlee    & POR & PF & 82 & 2087 & 267 &  517 &   0 &   4 & ⋯ &  68 & 154 &  82 & 253 & 4 &  749 & 1 & 0 & 0 & 82\\\\\n\t394 & NBA & Ramon Sessions   & WAS & PG & 82 & 1667 & 280 &  592 &  36 & 111 & ⋯ &  47 & 115 &   5 & 102 & 0 &  810 & 0 & 0 & 0 &  5\\\\\n\t422 & NBA & Isaiah Thomas    & BOS & PG & 82 & 2647 & 591 & 1382 & 167 & 465 & ⋯ &  91 & 220 &   9 & 167 & 1 & 1823 & 9 & 0 & 0 & 79\\\\\n\t427 & NBA & Tristan Thompson & CLE & C  & 82 & 2269 & 247 &  420 &   0 &   0 & ⋯ &  38 &  61 &  51 & 202 & 0 &  643 & 1 & 0 & 0 & 34\\\\\n\t431 & NBA & Karl-antho Towns & MIN & C  & 82 & 2621 & 625 & 1152 &  30 &  88 & ⋯ &  58 & 183 & 138 & 245 & 1 & 1503 & 2 & 0 & 0 & 82\\\\\n\t432 & NBA & P.j. Tucker      & PHO & SF & 82 & 2540 & 239 &  582 &  68 & 206 & ⋯ & 106 & 111 &  20 & 202 & 3 &  652 & 4 & 0 & 0 & 80\\\\\n\t24 & NBA & Trevor Ariza     & HOU & SF & 81 & 2860 & 357 &  858 & 185 & 497 & ⋯ & 161 & 113 &  26 & 177 & 0 & 1025 & 2 & 0 & 0 & 81\\\\\n\t41 & NBA & Aron Baynes      & DET & PF & 81 & 1241 & 194 &  384 &   0 &   2 & ⋯ &  21 &  67 &  52 & 151 & 0 &  514 & 0 & 0 & 0 &  1\\\\\n\\end{tabular}\n",
            "text/markdown": "\nA data.frame: 20 × 25\n\n| <!--/--> | League &lt;fct&gt; | Name &lt;chr&gt; | Team &lt;fct&gt; | Position &lt;fct&gt; | GamesPlayed &lt;int&gt; | TotalMinutesPlayed &lt;int&gt; | FieldGoalsMade &lt;int&gt; | FieldGoalsAttempted &lt;int&gt; | ThreesMade &lt;int&gt; | ThreesAttempted &lt;int&gt; | ⋯ ⋯ | Steals &lt;int&gt; | Turnovers &lt;int&gt; | Blocks &lt;int&gt; | PersonalFouls &lt;int&gt; | Disqualifications &lt;int&gt; | TotalPoints &lt;int&gt; | Technicals &lt;int&gt; | Ejections &lt;int&gt; | FlagrantFouls &lt;int&gt; | GamesStarted &lt;int&gt; |\n|---|---|---|---|---|---|---|---|---|---|---|---|---|---|---|---|---|---|---|---|---|---|\n| 11 | NBA | Al-farouq Aminu  | POR | SF | 82 | 2342 | 299 |  719 | 126 | 349 | ⋯ |  72 | 120 |  53 | 171 | 0 |  839 | 3 | 0 | 0 | 82 |\n| 37 | NBA | Will Barton      | DEN | SG | 82 | 2355 | 426 |  984 | 112 | 324 | ⋯ |  71 | 139 |  39 | 147 | 0 | 1180 | 2 | 0 | 0 |  1 |\n| 48 | NBA | Bismack Biyombo  | TOR | PF | 82 | 1810 | 156 |  288 |   0 |   1 | ⋯ |  19 |  71 | 133 | 225 | 2 |  454 | 3 | 0 | 0 | 22 |\n| 62 | NBA | Corey Brewer     | HOU | SG | 82 | 1670 | 212 |  552 |  61 | 225 | ⋯ |  84 |  78 |  19 | 168 | 1 |  590 | 0 | 0 | 0 | 12 |\n| 118 | NBA | Gorgui Dieng     | MIN | C  | 82 | 2222 | 308 |  578 |   6 |  20 | ⋯ |  94 | 140 |  96 | 219 | 0 |  827 | 1 | 0 | 0 | 39 |\n| 148 | NBA | Langsto Galloway | NYK | PG | 82 | 2032 | 231 |  588 |  77 | 224 | ⋯ |  77 |  61 |  22 | 177 | 2 |  625 | 0 | 0 | 0 |  7 |\n| 178 | NBA | James Harden     | HOU | SG | 82 | 3121 | 710 | 1617 | 236 | 656 | ⋯ | 138 | 374 |  51 | 229 | 1 | 2376 | 2 | 0 | 0 | 82 |\n| 208 | NBA | Al Horford       | ATL | PF | 82 | 2638 | 529 | 1049 |  88 | 257 | ⋯ |  67 | 107 | 122 | 163 | 0 | 1249 | 1 | 0 | 0 | 82 |\n| 246 | NBA | Enes Kanter      | OKL | C  | 82 | 1721 | 415 |  720 |  10 |  21 | ⋯ |  26 | 115 |  33 | 166 | 1 | 1040 | 2 | 0 | 0 |  1 |\n| 259 | NBA | Zach Lavine      | MIN | PG | 82 | 2295 | 433 |  960 | 123 | 316 | ⋯ |  69 | 155 |  17 | 193 | 1 | 1150 | 0 | 0 | 0 | 33 |\n| 272 | NBA | Robin Lopez      | NYK | C  | 82 | 2213 | 357 |  662 |   0 |   1 | ⋯ |  16 | 133 | 129 | 182 | 2 |  842 | 3 | 0 | 0 | 82 |\n| 320 | NBA | Shabazz Muhammad | MIN | SF | 82 | 1678 | 317 |  681 |  44 | 152 | ⋯ |  24 |  70 |   7 |  94 | 0 |  863 | 0 | 0 | 0 |  0 |\n| 357 | NBA | Mason Plumlee    | POR | PF | 82 | 2087 | 267 |  517 |   0 |   4 | ⋯ |  68 | 154 |  82 | 253 | 4 |  749 | 1 | 0 | 0 | 82 |\n| 394 | NBA | Ramon Sessions   | WAS | PG | 82 | 1667 | 280 |  592 |  36 | 111 | ⋯ |  47 | 115 |   5 | 102 | 0 |  810 | 0 | 0 | 0 |  5 |\n| 422 | NBA | Isaiah Thomas    | BOS | PG | 82 | 2647 | 591 | 1382 | 167 | 465 | ⋯ |  91 | 220 |   9 | 167 | 1 | 1823 | 9 | 0 | 0 | 79 |\n| 427 | NBA | Tristan Thompson | CLE | C  | 82 | 2269 | 247 |  420 |   0 |   0 | ⋯ |  38 |  61 |  51 | 202 | 0 |  643 | 1 | 0 | 0 | 34 |\n| 431 | NBA | Karl-antho Towns | MIN | C  | 82 | 2621 | 625 | 1152 |  30 |  88 | ⋯ |  58 | 183 | 138 | 245 | 1 | 1503 | 2 | 0 | 0 | 82 |\n| 432 | NBA | P.j. Tucker      | PHO | SF | 82 | 2540 | 239 |  582 |  68 | 206 | ⋯ | 106 | 111 |  20 | 202 | 3 |  652 | 4 | 0 | 0 | 80 |\n| 24 | NBA | Trevor Ariza     | HOU | SF | 81 | 2860 | 357 |  858 | 185 | 497 | ⋯ | 161 | 113 |  26 | 177 | 0 | 1025 | 2 | 0 | 0 | 81 |\n| 41 | NBA | Aron Baynes      | DET | PF | 81 | 1241 | 194 |  384 |   0 |   2 | ⋯ |  21 |  67 |  52 | 151 | 0 |  514 | 0 | 0 | 0 |  1 |\n\n",
            "text/html": [
              "<table>\n",
              "<caption>A data.frame: 20 × 25</caption>\n",
              "<thead>\n",
              "\t<tr><th></th><th scope=col>League</th><th scope=col>Name</th><th scope=col>Team</th><th scope=col>Position</th><th scope=col>GamesPlayed</th><th scope=col>TotalMinutesPlayed</th><th scope=col>FieldGoalsMade</th><th scope=col>FieldGoalsAttempted</th><th scope=col>ThreesMade</th><th scope=col>ThreesAttempted</th><th scope=col>⋯</th><th scope=col>Steals</th><th scope=col>Turnovers</th><th scope=col>Blocks</th><th scope=col>PersonalFouls</th><th scope=col>Disqualifications</th><th scope=col>TotalPoints</th><th scope=col>Technicals</th><th scope=col>Ejections</th><th scope=col>FlagrantFouls</th><th scope=col>GamesStarted</th></tr>\n",
              "\t<tr><th></th><th scope=col>&lt;fct&gt;</th><th scope=col>&lt;chr&gt;</th><th scope=col>&lt;fct&gt;</th><th scope=col>&lt;fct&gt;</th><th scope=col>&lt;int&gt;</th><th scope=col>&lt;int&gt;</th><th scope=col>&lt;int&gt;</th><th scope=col>&lt;int&gt;</th><th scope=col>&lt;int&gt;</th><th scope=col>&lt;int&gt;</th><th scope=col>⋯</th><th scope=col>&lt;int&gt;</th><th scope=col>&lt;int&gt;</th><th scope=col>&lt;int&gt;</th><th scope=col>&lt;int&gt;</th><th scope=col>&lt;int&gt;</th><th scope=col>&lt;int&gt;</th><th scope=col>&lt;int&gt;</th><th scope=col>&lt;int&gt;</th><th scope=col>&lt;int&gt;</th><th scope=col>&lt;int&gt;</th></tr>\n",
              "</thead>\n",
              "<tbody>\n",
              "\t<tr><th scope=row>11</th><td>NBA</td><td>Al-farouq Aminu </td><td>POR</td><td>SF</td><td>82</td><td>2342</td><td>299</td><td> 719</td><td>126</td><td>349</td><td>⋯</td><td> 72</td><td>120</td><td> 53</td><td>171</td><td>0</td><td> 839</td><td>3</td><td>0</td><td>0</td><td>82</td></tr>\n",
              "\t<tr><th scope=row>37</th><td>NBA</td><td>Will Barton     </td><td>DEN</td><td>SG</td><td>82</td><td>2355</td><td>426</td><td> 984</td><td>112</td><td>324</td><td>⋯</td><td> 71</td><td>139</td><td> 39</td><td>147</td><td>0</td><td>1180</td><td>2</td><td>0</td><td>0</td><td> 1</td></tr>\n",
              "\t<tr><th scope=row>48</th><td>NBA</td><td>Bismack Biyombo </td><td>TOR</td><td>PF</td><td>82</td><td>1810</td><td>156</td><td> 288</td><td>  0</td><td>  1</td><td>⋯</td><td> 19</td><td> 71</td><td>133</td><td>225</td><td>2</td><td> 454</td><td>3</td><td>0</td><td>0</td><td>22</td></tr>\n",
              "\t<tr><th scope=row>62</th><td>NBA</td><td>Corey Brewer    </td><td>HOU</td><td>SG</td><td>82</td><td>1670</td><td>212</td><td> 552</td><td> 61</td><td>225</td><td>⋯</td><td> 84</td><td> 78</td><td> 19</td><td>168</td><td>1</td><td> 590</td><td>0</td><td>0</td><td>0</td><td>12</td></tr>\n",
              "\t<tr><th scope=row>118</th><td>NBA</td><td>Gorgui Dieng    </td><td>MIN</td><td>C </td><td>82</td><td>2222</td><td>308</td><td> 578</td><td>  6</td><td> 20</td><td>⋯</td><td> 94</td><td>140</td><td> 96</td><td>219</td><td>0</td><td> 827</td><td>1</td><td>0</td><td>0</td><td>39</td></tr>\n",
              "\t<tr><th scope=row>148</th><td>NBA</td><td>Langsto Galloway</td><td>NYK</td><td>PG</td><td>82</td><td>2032</td><td>231</td><td> 588</td><td> 77</td><td>224</td><td>⋯</td><td> 77</td><td> 61</td><td> 22</td><td>177</td><td>2</td><td> 625</td><td>0</td><td>0</td><td>0</td><td> 7</td></tr>\n",
              "\t<tr><th scope=row>178</th><td>NBA</td><td>James Harden    </td><td>HOU</td><td>SG</td><td>82</td><td>3121</td><td>710</td><td>1617</td><td>236</td><td>656</td><td>⋯</td><td>138</td><td>374</td><td> 51</td><td>229</td><td>1</td><td>2376</td><td>2</td><td>0</td><td>0</td><td>82</td></tr>\n",
              "\t<tr><th scope=row>208</th><td>NBA</td><td>Al Horford      </td><td>ATL</td><td>PF</td><td>82</td><td>2638</td><td>529</td><td>1049</td><td> 88</td><td>257</td><td>⋯</td><td> 67</td><td>107</td><td>122</td><td>163</td><td>0</td><td>1249</td><td>1</td><td>0</td><td>0</td><td>82</td></tr>\n",
              "\t<tr><th scope=row>246</th><td>NBA</td><td>Enes Kanter     </td><td>OKL</td><td>C </td><td>82</td><td>1721</td><td>415</td><td> 720</td><td> 10</td><td> 21</td><td>⋯</td><td> 26</td><td>115</td><td> 33</td><td>166</td><td>1</td><td>1040</td><td>2</td><td>0</td><td>0</td><td> 1</td></tr>\n",
              "\t<tr><th scope=row>259</th><td>NBA</td><td>Zach Lavine     </td><td>MIN</td><td>PG</td><td>82</td><td>2295</td><td>433</td><td> 960</td><td>123</td><td>316</td><td>⋯</td><td> 69</td><td>155</td><td> 17</td><td>193</td><td>1</td><td>1150</td><td>0</td><td>0</td><td>0</td><td>33</td></tr>\n",
              "\t<tr><th scope=row>272</th><td>NBA</td><td>Robin Lopez     </td><td>NYK</td><td>C </td><td>82</td><td>2213</td><td>357</td><td> 662</td><td>  0</td><td>  1</td><td>⋯</td><td> 16</td><td>133</td><td>129</td><td>182</td><td>2</td><td> 842</td><td>3</td><td>0</td><td>0</td><td>82</td></tr>\n",
              "\t<tr><th scope=row>320</th><td>NBA</td><td>Shabazz Muhammad</td><td>MIN</td><td>SF</td><td>82</td><td>1678</td><td>317</td><td> 681</td><td> 44</td><td>152</td><td>⋯</td><td> 24</td><td> 70</td><td>  7</td><td> 94</td><td>0</td><td> 863</td><td>0</td><td>0</td><td>0</td><td> 0</td></tr>\n",
              "\t<tr><th scope=row>357</th><td>NBA</td><td>Mason Plumlee   </td><td>POR</td><td>PF</td><td>82</td><td>2087</td><td>267</td><td> 517</td><td>  0</td><td>  4</td><td>⋯</td><td> 68</td><td>154</td><td> 82</td><td>253</td><td>4</td><td> 749</td><td>1</td><td>0</td><td>0</td><td>82</td></tr>\n",
              "\t<tr><th scope=row>394</th><td>NBA</td><td>Ramon Sessions  </td><td>WAS</td><td>PG</td><td>82</td><td>1667</td><td>280</td><td> 592</td><td> 36</td><td>111</td><td>⋯</td><td> 47</td><td>115</td><td>  5</td><td>102</td><td>0</td><td> 810</td><td>0</td><td>0</td><td>0</td><td> 5</td></tr>\n",
              "\t<tr><th scope=row>422</th><td>NBA</td><td>Isaiah Thomas   </td><td>BOS</td><td>PG</td><td>82</td><td>2647</td><td>591</td><td>1382</td><td>167</td><td>465</td><td>⋯</td><td> 91</td><td>220</td><td>  9</td><td>167</td><td>1</td><td>1823</td><td>9</td><td>0</td><td>0</td><td>79</td></tr>\n",
              "\t<tr><th scope=row>427</th><td>NBA</td><td>Tristan Thompson</td><td>CLE</td><td>C </td><td>82</td><td>2269</td><td>247</td><td> 420</td><td>  0</td><td>  0</td><td>⋯</td><td> 38</td><td> 61</td><td> 51</td><td>202</td><td>0</td><td> 643</td><td>1</td><td>0</td><td>0</td><td>34</td></tr>\n",
              "\t<tr><th scope=row>431</th><td>NBA</td><td>Karl-antho Towns</td><td>MIN</td><td>C </td><td>82</td><td>2621</td><td>625</td><td>1152</td><td> 30</td><td> 88</td><td>⋯</td><td> 58</td><td>183</td><td>138</td><td>245</td><td>1</td><td>1503</td><td>2</td><td>0</td><td>0</td><td>82</td></tr>\n",
              "\t<tr><th scope=row>432</th><td>NBA</td><td>P.j. Tucker     </td><td>PHO</td><td>SF</td><td>82</td><td>2540</td><td>239</td><td> 582</td><td> 68</td><td>206</td><td>⋯</td><td>106</td><td>111</td><td> 20</td><td>202</td><td>3</td><td> 652</td><td>4</td><td>0</td><td>0</td><td>80</td></tr>\n",
              "\t<tr><th scope=row>24</th><td>NBA</td><td>Trevor Ariza    </td><td>HOU</td><td>SF</td><td>81</td><td>2860</td><td>357</td><td> 858</td><td>185</td><td>497</td><td>⋯</td><td>161</td><td>113</td><td> 26</td><td>177</td><td>0</td><td>1025</td><td>2</td><td>0</td><td>0</td><td>81</td></tr>\n",
              "\t<tr><th scope=row>41</th><td>NBA</td><td>Aron Baynes     </td><td>DET</td><td>PF</td><td>81</td><td>1241</td><td>194</td><td> 384</td><td>  0</td><td>  2</td><td>⋯</td><td> 21</td><td> 67</td><td> 52</td><td>151</td><td>0</td><td> 514</td><td>0</td><td>0</td><td>0</td><td> 1</td></tr>\n",
              "</tbody>\n",
              "</table>\n"
            ]
          },
          "metadata": {
            "tags": []
          }
        }
      ]
    },
    {
      "cell_type": "code",
      "metadata": {
        "id": "5vqHktjNmaWK",
        "outputId": "9f4c9592-43d1-4d45-adcc-c31742ea7fe2",
        "colab": {
          "base_uri": "https://localhost:8080/",
          "height": 51
        }
      },
      "source": [
        "NBA15160rder<-NBA1516[order(NBA1516$GamesPlayed,decreasing = T),]\n",
        "NBA15160rder[1:20,\"Name\"]\n"
      ],
      "execution_count": null,
      "outputs": [
        {
          "output_type": "display_data",
          "data": {
            "text/plain": [
              " [1] \"Al-farouq Aminu\"  \"Will Barton\"      \"Bismack Biyombo\"  \"Corey Brewer\"    \n",
              " [5] \"Gorgui Dieng\"     \"Langsto Galloway\" \"James Harden\"     \"Al Horford\"      \n",
              " [9] \"Enes Kanter\"      \"Zach Lavine\"      \"Robin Lopez\"      \"Shabazz Muhammad\"\n",
              "[13] \"Mason Plumlee\"    \"Ramon Sessions\"   \"Isaiah Thomas\"    \"Tristan Thompson\"\n",
              "[17] \"Karl-antho Towns\" \"P.j. Tucker\"      \"Trevor Ariza\"     \"Aron Baynes\"     "
            ],
            "text/latex": "\\begin{enumerate*}\n\\item 'Al-farouq Aminu'\n\\item 'Will Barton'\n\\item 'Bismack Biyombo'\n\\item 'Corey Brewer'\n\\item 'Gorgui Dieng'\n\\item 'Langsto Galloway'\n\\item 'James Harden'\n\\item 'Al Horford'\n\\item 'Enes Kanter'\n\\item 'Zach Lavine'\n\\item 'Robin Lopez'\n\\item 'Shabazz Muhammad'\n\\item 'Mason Plumlee'\n\\item 'Ramon Sessions'\n\\item 'Isaiah Thomas'\n\\item 'Tristan Thompson'\n\\item 'Karl-antho Towns'\n\\item 'P.j. Tucker'\n\\item 'Trevor Ariza'\n\\item 'Aron Baynes'\n\\end{enumerate*}\n",
            "text/markdown": "1. 'Al-farouq Aminu'\n2. 'Will Barton'\n3. 'Bismack Biyombo'\n4. 'Corey Brewer'\n5. 'Gorgui Dieng'\n6. 'Langsto Galloway'\n7. 'James Harden'\n8. 'Al Horford'\n9. 'Enes Kanter'\n10. 'Zach Lavine'\n11. 'Robin Lopez'\n12. 'Shabazz Muhammad'\n13. 'Mason Plumlee'\n14. 'Ramon Sessions'\n15. 'Isaiah Thomas'\n16. 'Tristan Thompson'\n17. 'Karl-antho Towns'\n18. 'P.j. Tucker'\n19. 'Trevor Ariza'\n20. 'Aron Baynes'\n\n\n",
            "text/html": [
              "<style>\n",
              ".list-inline {list-style: none; margin:0; padding: 0}\n",
              ".list-inline>li {display: inline-block}\n",
              ".list-inline>li:not(:last-child)::after {content: \"\\00b7\"; padding: 0 .5ex}\n",
              "</style>\n",
              "<ol class=list-inline><li>'Al-farouq Aminu'</li><li>'Will Barton'</li><li>'Bismack Biyombo'</li><li>'Corey Brewer'</li><li>'Gorgui Dieng'</li><li>'Langsto Galloway'</li><li>'James Harden'</li><li>'Al Horford'</li><li>'Enes Kanter'</li><li>'Zach Lavine'</li><li>'Robin Lopez'</li><li>'Shabazz Muhammad'</li><li>'Mason Plumlee'</li><li>'Ramon Sessions'</li><li>'Isaiah Thomas'</li><li>'Tristan Thompson'</li><li>'Karl-antho Towns'</li><li>'P.j. Tucker'</li><li>'Trevor Ariza'</li><li>'Aron Baynes'</li></ol>\n"
            ]
          },
          "metadata": {
            "tags": []
          }
        }
      ]
    },
    {
      "cell_type": "code",
      "metadata": {
        "id": "JIIJkfoVoXWu",
        "outputId": "2518a6c8-ff78-4a08-aa5c-6153b1703764",
        "colab": {
          "base_uri": "https://localhost:8080/",
          "height": 51
        }
      },
      "source": [
        "NBA15160rderM<-NBA1516[order(NBA1516$TotalMinutesPlayed,decreasing = T),]\n",
        "NBA15160rderM[1:20,\"Name\"]"
      ],
      "execution_count": null,
      "outputs": [
        {
          "output_type": "display_data",
          "data": {
            "text/plain": [
              " [1] \"James Harden\"     \"Gordon Hayward\"   \"Kemba Walker\"     \"Trevor Ariza\"    \n",
              " [5] \"Khris Middleton\"  \"Kyle Lowry\"       \"Marcus Morris\"    \"Andrew Wiggins\"  \n",
              " [9] \"Paul George\"      \"Gi Antetokounmpo\" \"Draymond Green\"   \"Demar Derozan\"   \n",
              "[13] \"Ke Caldwell-pope\" \"John Wall\"        \"C.j. Mccollum\"    \"Russel Westbrook\"\n",
              "[17] \"Monta Ellis\"      \"Lebron James\"     \"Stephen Curry\"    \"Joe Johnson\"     "
            ],
            "text/latex": "\\begin{enumerate*}\n\\item 'James Harden'\n\\item 'Gordon Hayward'\n\\item 'Kemba Walker'\n\\item 'Trevor Ariza'\n\\item 'Khris Middleton'\n\\item 'Kyle Lowry'\n\\item 'Marcus Morris'\n\\item 'Andrew Wiggins'\n\\item 'Paul George'\n\\item 'Gi Antetokounmpo'\n\\item 'Draymond Green'\n\\item 'Demar Derozan'\n\\item 'Ke Caldwell-pope'\n\\item 'John Wall'\n\\item 'C.j. Mccollum'\n\\item 'Russel Westbrook'\n\\item 'Monta Ellis'\n\\item 'Lebron James'\n\\item 'Stephen Curry'\n\\item 'Joe Johnson'\n\\end{enumerate*}\n",
            "text/markdown": "1. 'James Harden'\n2. 'Gordon Hayward'\n3. 'Kemba Walker'\n4. 'Trevor Ariza'\n5. 'Khris Middleton'\n6. 'Kyle Lowry'\n7. 'Marcus Morris'\n8. 'Andrew Wiggins'\n9. 'Paul George'\n10. 'Gi Antetokounmpo'\n11. 'Draymond Green'\n12. 'Demar Derozan'\n13. 'Ke Caldwell-pope'\n14. 'John Wall'\n15. 'C.j. Mccollum'\n16. 'Russel Westbrook'\n17. 'Monta Ellis'\n18. 'Lebron James'\n19. 'Stephen Curry'\n20. 'Joe Johnson'\n\n\n",
            "text/html": [
              "<style>\n",
              ".list-inline {list-style: none; margin:0; padding: 0}\n",
              ".list-inline>li {display: inline-block}\n",
              ".list-inline>li:not(:last-child)::after {content: \"\\00b7\"; padding: 0 .5ex}\n",
              "</style>\n",
              "<ol class=list-inline><li>'James Harden'</li><li>'Gordon Hayward'</li><li>'Kemba Walker'</li><li>'Trevor Ariza'</li><li>'Khris Middleton'</li><li>'Kyle Lowry'</li><li>'Marcus Morris'</li><li>'Andrew Wiggins'</li><li>'Paul George'</li><li>'Gi Antetokounmpo'</li><li>'Draymond Green'</li><li>'Demar Derozan'</li><li>'Ke Caldwell-pope'</li><li>'John Wall'</li><li>'C.j. Mccollum'</li><li>'Russel Westbrook'</li><li>'Monta Ellis'</li><li>'Lebron James'</li><li>'Stephen Curry'</li><li>'Joe Johnson'</li></ol>\n"
            ]
          },
          "metadata": {
            "tags": []
          }
        }
      ]
    },
    {
      "cell_type": "code",
      "metadata": {
        "id": "u_jJUvl4oz2w",
        "outputId": "00a8163b-fc5a-45e9-c3e1-ba5ea8a79c1b",
        "colab": {
          "base_uri": "https://localhost:8080/",
          "height": 546
        }
      },
      "source": [
        "subset(NBA1516,Team ==\"GSW\")"
      ],
      "execution_count": null,
      "outputs": [
        {
          "output_type": "display_data",
          "data": {
            "text/plain": [
              "    League Name             Team Position GamesPlayed TotalMinutesPlayed\n",
              "32  NBA    Leandro Barbosa  GSW  SG       68          1079              \n",
              "35  NBA    Harrison Barnes  GSW  SF       66          2043              \n",
              "55  NBA    Andrew Bogut     GSW  C        70          1452              \n",
              "88  NBA    Ian Clark        GSW  SG       66           579              \n",
              "106 NBA    Stephen Curry    GSW  PG       79          2705              \n",
              "136 NBA    Festus Ezeli     GSW  C        46           769              \n",
              "167 NBA    Draymond Green   GSW  SF       81          2807              \n",
              "215 NBA    Andre Iguodala   GSW  SG       65          1736              \n",
              "269 NBA    Shaun Livingston GSW  PG       78          1512              \n",
              "270 NBA    Kevon Looney     GSW  SF        5            21              \n",
              "286 NBA    James Mcadoo     GSW  SG       41           265              \n",
              "385 NBA    Brandon Rush     GSW  SG       72          1050              \n",
              "408 NBA    Marrees Speights GSW  C        72           836              \n",
              "426 NBA    Klay Thompson    GSW  SG       80          2661              \n",
              "437 NBA    Anderson Varejao GSW  C        53           494              \n",
              "    FieldGoalsMade FieldGoalsAttempted ThreesMade ThreesAttempted ⋯ Steals\n",
              "32  171             370                 39        111             ⋯  44   \n",
              "35  295             633                 82        214             ⋯  41   \n",
              "55  175             279                  1          1             ⋯  32   \n",
              "88   89             202                 30         84             ⋯  17   \n",
              "106 805            1597                402        887             ⋯ 169   \n",
              "136 125             228                  0          0             ⋯  18   \n",
              "167 401             819                100        258             ⋯ 118   \n",
              "215 176             368                 54        154             ⋯  73   \n",
              "269 203             379                  2         12             ⋯  57   \n",
              "270   4               7                  1          2             ⋯   0   \n",
              "286  45              84                  1          2             ⋯  10   \n",
              "385 111             260                 65        157             ⋯  21   \n",
              "408 197             456                 24         62             ⋯  19   \n",
              "426 651            1386                276        648             ⋯  60   \n",
              "437  53             124                  0          1             ⋯  16   \n",
              "    Turnovers Blocks PersonalFouls Disqualifications TotalPoints Technicals\n",
              "32   53        10    107           0                  433         1        \n",
              "35   58        10    136           1                  774         0        \n",
              "55   83       113    221           4                  375         0        \n",
              "88   43        13     58           0                  236         1        \n",
              "106 261        16    161           0                 2375         1        \n",
              "136  38        50     94           1                  320         0        \n",
              "167 259       111    240           2                 1131        11        \n",
              "215  79        19    102           0                  457         1        \n",
              "269  78        27    140           0                  488         2        \n",
              "270   1         0      2           0                    9         0        \n",
              "286  16         8     39           0                  117         0        \n",
              "385  33        23     57           1                  305         0        \n",
              "408  66        34    117           0                  512         2        \n",
              "426 138        50    152           0                 1771         0        \n",
              "437  22        10     70           0                  138         1        \n",
              "    Ejections FlagrantFouls GamesStarted\n",
              "32  0         0              0          \n",
              "35  0         0             59          \n",
              "55  0         0             66          \n",
              "88  0         0              1          \n",
              "106 0         0             79          \n",
              "136 0         0             13          \n",
              "167 0         0             81          \n",
              "215 0         0              1          \n",
              "269 0         0              3          \n",
              "270 0         0              0          \n",
              "286 0         0              1          \n",
              "385 0         0             25          \n",
              "408 0         0              0          \n",
              "426 0         0             80          \n",
              "437 0         0              0          "
            ],
            "text/latex": "A data.frame: 15 × 25\n\\begin{tabular}{r|lllllllllllllllllllll}\n  & League & Name & Team & Position & GamesPlayed & TotalMinutesPlayed & FieldGoalsMade & FieldGoalsAttempted & ThreesMade & ThreesAttempted & ⋯ & Steals & Turnovers & Blocks & PersonalFouls & Disqualifications & TotalPoints & Technicals & Ejections & FlagrantFouls & GamesStarted\\\\\n  & <fct> & <chr> & <fct> & <fct> & <int> & <int> & <int> & <int> & <int> & <int> & ⋯ & <int> & <int> & <int> & <int> & <int> & <int> & <int> & <int> & <int> & <int>\\\\\n\\hline\n\t32 & NBA & Leandro Barbosa  & GSW & SG & 68 & 1079 & 171 &  370 &  39 & 111 & ⋯ &  44 &  53 &  10 & 107 & 0 &  433 &  1 & 0 & 0 &  0\\\\\n\t35 & NBA & Harrison Barnes  & GSW & SF & 66 & 2043 & 295 &  633 &  82 & 214 & ⋯ &  41 &  58 &  10 & 136 & 1 &  774 &  0 & 0 & 0 & 59\\\\\n\t55 & NBA & Andrew Bogut     & GSW & C  & 70 & 1452 & 175 &  279 &   1 &   1 & ⋯ &  32 &  83 & 113 & 221 & 4 &  375 &  0 & 0 & 0 & 66\\\\\n\t88 & NBA & Ian Clark        & GSW & SG & 66 &  579 &  89 &  202 &  30 &  84 & ⋯ &  17 &  43 &  13 &  58 & 0 &  236 &  1 & 0 & 0 &  1\\\\\n\t106 & NBA & Stephen Curry    & GSW & PG & 79 & 2705 & 805 & 1597 & 402 & 887 & ⋯ & 169 & 261 &  16 & 161 & 0 & 2375 &  1 & 0 & 0 & 79\\\\\n\t136 & NBA & Festus Ezeli     & GSW & C  & 46 &  769 & 125 &  228 &   0 &   0 & ⋯ &  18 &  38 &  50 &  94 & 1 &  320 &  0 & 0 & 0 & 13\\\\\n\t167 & NBA & Draymond Green   & GSW & SF & 81 & 2807 & 401 &  819 & 100 & 258 & ⋯ & 118 & 259 & 111 & 240 & 2 & 1131 & 11 & 0 & 0 & 81\\\\\n\t215 & NBA & Andre Iguodala   & GSW & SG & 65 & 1736 & 176 &  368 &  54 & 154 & ⋯ &  73 &  79 &  19 & 102 & 0 &  457 &  1 & 0 & 0 &  1\\\\\n\t269 & NBA & Shaun Livingston & GSW & PG & 78 & 1512 & 203 &  379 &   2 &  12 & ⋯ &  57 &  78 &  27 & 140 & 0 &  488 &  2 & 0 & 0 &  3\\\\\n\t270 & NBA & Kevon Looney     & GSW & SF &  5 &   21 &   4 &    7 &   1 &   2 & ⋯ &   0 &   1 &   0 &   2 & 0 &    9 &  0 & 0 & 0 &  0\\\\\n\t286 & NBA & James Mcadoo     & GSW & SG & 41 &  265 &  45 &   84 &   1 &   2 & ⋯ &  10 &  16 &   8 &  39 & 0 &  117 &  0 & 0 & 0 &  1\\\\\n\t385 & NBA & Brandon Rush     & GSW & SG & 72 & 1050 & 111 &  260 &  65 & 157 & ⋯ &  21 &  33 &  23 &  57 & 1 &  305 &  0 & 0 & 0 & 25\\\\\n\t408 & NBA & Marrees Speights & GSW & C  & 72 &  836 & 197 &  456 &  24 &  62 & ⋯ &  19 &  66 &  34 & 117 & 0 &  512 &  2 & 0 & 0 &  0\\\\\n\t426 & NBA & Klay Thompson    & GSW & SG & 80 & 2661 & 651 & 1386 & 276 & 648 & ⋯ &  60 & 138 &  50 & 152 & 0 & 1771 &  0 & 0 & 0 & 80\\\\\n\t437 & NBA & Anderson Varejao & GSW & C  & 53 &  494 &  53 &  124 &   0 &   1 & ⋯ &  16 &  22 &  10 &  70 & 0 &  138 &  1 & 0 & 0 &  0\\\\\n\\end{tabular}\n",
            "text/markdown": "\nA data.frame: 15 × 25\n\n| <!--/--> | League &lt;fct&gt; | Name &lt;chr&gt; | Team &lt;fct&gt; | Position &lt;fct&gt; | GamesPlayed &lt;int&gt; | TotalMinutesPlayed &lt;int&gt; | FieldGoalsMade &lt;int&gt; | FieldGoalsAttempted &lt;int&gt; | ThreesMade &lt;int&gt; | ThreesAttempted &lt;int&gt; | ⋯ ⋯ | Steals &lt;int&gt; | Turnovers &lt;int&gt; | Blocks &lt;int&gt; | PersonalFouls &lt;int&gt; | Disqualifications &lt;int&gt; | TotalPoints &lt;int&gt; | Technicals &lt;int&gt; | Ejections &lt;int&gt; | FlagrantFouls &lt;int&gt; | GamesStarted &lt;int&gt; |\n|---|---|---|---|---|---|---|---|---|---|---|---|---|---|---|---|---|---|---|---|---|---|\n| 32 | NBA | Leandro Barbosa  | GSW | SG | 68 | 1079 | 171 |  370 |  39 | 111 | ⋯ |  44 |  53 |  10 | 107 | 0 |  433 |  1 | 0 | 0 |  0 |\n| 35 | NBA | Harrison Barnes  | GSW | SF | 66 | 2043 | 295 |  633 |  82 | 214 | ⋯ |  41 |  58 |  10 | 136 | 1 |  774 |  0 | 0 | 0 | 59 |\n| 55 | NBA | Andrew Bogut     | GSW | C  | 70 | 1452 | 175 |  279 |   1 |   1 | ⋯ |  32 |  83 | 113 | 221 | 4 |  375 |  0 | 0 | 0 | 66 |\n| 88 | NBA | Ian Clark        | GSW | SG | 66 |  579 |  89 |  202 |  30 |  84 | ⋯ |  17 |  43 |  13 |  58 | 0 |  236 |  1 | 0 | 0 |  1 |\n| 106 | NBA | Stephen Curry    | GSW | PG | 79 | 2705 | 805 | 1597 | 402 | 887 | ⋯ | 169 | 261 |  16 | 161 | 0 | 2375 |  1 | 0 | 0 | 79 |\n| 136 | NBA | Festus Ezeli     | GSW | C  | 46 |  769 | 125 |  228 |   0 |   0 | ⋯ |  18 |  38 |  50 |  94 | 1 |  320 |  0 | 0 | 0 | 13 |\n| 167 | NBA | Draymond Green   | GSW | SF | 81 | 2807 | 401 |  819 | 100 | 258 | ⋯ | 118 | 259 | 111 | 240 | 2 | 1131 | 11 | 0 | 0 | 81 |\n| 215 | NBA | Andre Iguodala   | GSW | SG | 65 | 1736 | 176 |  368 |  54 | 154 | ⋯ |  73 |  79 |  19 | 102 | 0 |  457 |  1 | 0 | 0 |  1 |\n| 269 | NBA | Shaun Livingston | GSW | PG | 78 | 1512 | 203 |  379 |   2 |  12 | ⋯ |  57 |  78 |  27 | 140 | 0 |  488 |  2 | 0 | 0 |  3 |\n| 270 | NBA | Kevon Looney     | GSW | SF |  5 |   21 |   4 |    7 |   1 |   2 | ⋯ |   0 |   1 |   0 |   2 | 0 |    9 |  0 | 0 | 0 |  0 |\n| 286 | NBA | James Mcadoo     | GSW | SG | 41 |  265 |  45 |   84 |   1 |   2 | ⋯ |  10 |  16 |   8 |  39 | 0 |  117 |  0 | 0 | 0 |  1 |\n| 385 | NBA | Brandon Rush     | GSW | SG | 72 | 1050 | 111 |  260 |  65 | 157 | ⋯ |  21 |  33 |  23 |  57 | 1 |  305 |  0 | 0 | 0 | 25 |\n| 408 | NBA | Marrees Speights | GSW | C  | 72 |  836 | 197 |  456 |  24 |  62 | ⋯ |  19 |  66 |  34 | 117 | 0 |  512 |  2 | 0 | 0 |  0 |\n| 426 | NBA | Klay Thompson    | GSW | SG | 80 | 2661 | 651 | 1386 | 276 | 648 | ⋯ |  60 | 138 |  50 | 152 | 0 | 1771 |  0 | 0 | 0 | 80 |\n| 437 | NBA | Anderson Varejao | GSW | C  | 53 |  494 |  53 |  124 |   0 |   1 | ⋯ |  16 |  22 |  10 |  70 | 0 |  138 |  1 | 0 | 0 |  0 |\n\n",
            "text/html": [
              "<table>\n",
              "<caption>A data.frame: 15 × 25</caption>\n",
              "<thead>\n",
              "\t<tr><th></th><th scope=col>League</th><th scope=col>Name</th><th scope=col>Team</th><th scope=col>Position</th><th scope=col>GamesPlayed</th><th scope=col>TotalMinutesPlayed</th><th scope=col>FieldGoalsMade</th><th scope=col>FieldGoalsAttempted</th><th scope=col>ThreesMade</th><th scope=col>ThreesAttempted</th><th scope=col>⋯</th><th scope=col>Steals</th><th scope=col>Turnovers</th><th scope=col>Blocks</th><th scope=col>PersonalFouls</th><th scope=col>Disqualifications</th><th scope=col>TotalPoints</th><th scope=col>Technicals</th><th scope=col>Ejections</th><th scope=col>FlagrantFouls</th><th scope=col>GamesStarted</th></tr>\n",
              "\t<tr><th></th><th scope=col>&lt;fct&gt;</th><th scope=col>&lt;chr&gt;</th><th scope=col>&lt;fct&gt;</th><th scope=col>&lt;fct&gt;</th><th scope=col>&lt;int&gt;</th><th scope=col>&lt;int&gt;</th><th scope=col>&lt;int&gt;</th><th scope=col>&lt;int&gt;</th><th scope=col>&lt;int&gt;</th><th scope=col>&lt;int&gt;</th><th scope=col>⋯</th><th scope=col>&lt;int&gt;</th><th scope=col>&lt;int&gt;</th><th scope=col>&lt;int&gt;</th><th scope=col>&lt;int&gt;</th><th scope=col>&lt;int&gt;</th><th scope=col>&lt;int&gt;</th><th scope=col>&lt;int&gt;</th><th scope=col>&lt;int&gt;</th><th scope=col>&lt;int&gt;</th><th scope=col>&lt;int&gt;</th></tr>\n",
              "</thead>\n",
              "<tbody>\n",
              "\t<tr><th scope=row>32</th><td>NBA</td><td>Leandro Barbosa </td><td>GSW</td><td>SG</td><td>68</td><td>1079</td><td>171</td><td> 370</td><td> 39</td><td>111</td><td>⋯</td><td> 44</td><td> 53</td><td> 10</td><td>107</td><td>0</td><td> 433</td><td> 1</td><td>0</td><td>0</td><td> 0</td></tr>\n",
              "\t<tr><th scope=row>35</th><td>NBA</td><td>Harrison Barnes </td><td>GSW</td><td>SF</td><td>66</td><td>2043</td><td>295</td><td> 633</td><td> 82</td><td>214</td><td>⋯</td><td> 41</td><td> 58</td><td> 10</td><td>136</td><td>1</td><td> 774</td><td> 0</td><td>0</td><td>0</td><td>59</td></tr>\n",
              "\t<tr><th scope=row>55</th><td>NBA</td><td>Andrew Bogut    </td><td>GSW</td><td>C </td><td>70</td><td>1452</td><td>175</td><td> 279</td><td>  1</td><td>  1</td><td>⋯</td><td> 32</td><td> 83</td><td>113</td><td>221</td><td>4</td><td> 375</td><td> 0</td><td>0</td><td>0</td><td>66</td></tr>\n",
              "\t<tr><th scope=row>88</th><td>NBA</td><td>Ian Clark       </td><td>GSW</td><td>SG</td><td>66</td><td> 579</td><td> 89</td><td> 202</td><td> 30</td><td> 84</td><td>⋯</td><td> 17</td><td> 43</td><td> 13</td><td> 58</td><td>0</td><td> 236</td><td> 1</td><td>0</td><td>0</td><td> 1</td></tr>\n",
              "\t<tr><th scope=row>106</th><td>NBA</td><td>Stephen Curry   </td><td>GSW</td><td>PG</td><td>79</td><td>2705</td><td>805</td><td>1597</td><td>402</td><td>887</td><td>⋯</td><td>169</td><td>261</td><td> 16</td><td>161</td><td>0</td><td>2375</td><td> 1</td><td>0</td><td>0</td><td>79</td></tr>\n",
              "\t<tr><th scope=row>136</th><td>NBA</td><td>Festus Ezeli    </td><td>GSW</td><td>C </td><td>46</td><td> 769</td><td>125</td><td> 228</td><td>  0</td><td>  0</td><td>⋯</td><td> 18</td><td> 38</td><td> 50</td><td> 94</td><td>1</td><td> 320</td><td> 0</td><td>0</td><td>0</td><td>13</td></tr>\n",
              "\t<tr><th scope=row>167</th><td>NBA</td><td>Draymond Green  </td><td>GSW</td><td>SF</td><td>81</td><td>2807</td><td>401</td><td> 819</td><td>100</td><td>258</td><td>⋯</td><td>118</td><td>259</td><td>111</td><td>240</td><td>2</td><td>1131</td><td>11</td><td>0</td><td>0</td><td>81</td></tr>\n",
              "\t<tr><th scope=row>215</th><td>NBA</td><td>Andre Iguodala  </td><td>GSW</td><td>SG</td><td>65</td><td>1736</td><td>176</td><td> 368</td><td> 54</td><td>154</td><td>⋯</td><td> 73</td><td> 79</td><td> 19</td><td>102</td><td>0</td><td> 457</td><td> 1</td><td>0</td><td>0</td><td> 1</td></tr>\n",
              "\t<tr><th scope=row>269</th><td>NBA</td><td>Shaun Livingston</td><td>GSW</td><td>PG</td><td>78</td><td>1512</td><td>203</td><td> 379</td><td>  2</td><td> 12</td><td>⋯</td><td> 57</td><td> 78</td><td> 27</td><td>140</td><td>0</td><td> 488</td><td> 2</td><td>0</td><td>0</td><td> 3</td></tr>\n",
              "\t<tr><th scope=row>270</th><td>NBA</td><td>Kevon Looney    </td><td>GSW</td><td>SF</td><td> 5</td><td>  21</td><td>  4</td><td>   7</td><td>  1</td><td>  2</td><td>⋯</td><td>  0</td><td>  1</td><td>  0</td><td>  2</td><td>0</td><td>   9</td><td> 0</td><td>0</td><td>0</td><td> 0</td></tr>\n",
              "\t<tr><th scope=row>286</th><td>NBA</td><td>James Mcadoo    </td><td>GSW</td><td>SG</td><td>41</td><td> 265</td><td> 45</td><td>  84</td><td>  1</td><td>  2</td><td>⋯</td><td> 10</td><td> 16</td><td>  8</td><td> 39</td><td>0</td><td> 117</td><td> 0</td><td>0</td><td>0</td><td> 1</td></tr>\n",
              "\t<tr><th scope=row>385</th><td>NBA</td><td>Brandon Rush    </td><td>GSW</td><td>SG</td><td>72</td><td>1050</td><td>111</td><td> 260</td><td> 65</td><td>157</td><td>⋯</td><td> 21</td><td> 33</td><td> 23</td><td> 57</td><td>1</td><td> 305</td><td> 0</td><td>0</td><td>0</td><td>25</td></tr>\n",
              "\t<tr><th scope=row>408</th><td>NBA</td><td>Marrees Speights</td><td>GSW</td><td>C </td><td>72</td><td> 836</td><td>197</td><td> 456</td><td> 24</td><td> 62</td><td>⋯</td><td> 19</td><td> 66</td><td> 34</td><td>117</td><td>0</td><td> 512</td><td> 2</td><td>0</td><td>0</td><td> 0</td></tr>\n",
              "\t<tr><th scope=row>426</th><td>NBA</td><td>Klay Thompson   </td><td>GSW</td><td>SG</td><td>80</td><td>2661</td><td>651</td><td>1386</td><td>276</td><td>648</td><td>⋯</td><td> 60</td><td>138</td><td> 50</td><td>152</td><td>0</td><td>1771</td><td> 0</td><td>0</td><td>0</td><td>80</td></tr>\n",
              "\t<tr><th scope=row>437</th><td>NBA</td><td>Anderson Varejao</td><td>GSW</td><td>C </td><td>53</td><td> 494</td><td> 53</td><td> 124</td><td>  0</td><td>  1</td><td>⋯</td><td> 16</td><td> 22</td><td> 10</td><td> 70</td><td>0</td><td> 138</td><td> 1</td><td>0</td><td>0</td><td> 0</td></tr>\n",
              "</tbody>\n",
              "</table>\n"
            ]
          },
          "metadata": {
            "tags": []
          }
        }
      ]
    },
    {
      "cell_type": "code",
      "metadata": {
        "id": "w_jlmeD0pCn8",
        "outputId": "94d17381-f4d7-4b40-9ace-33cb8f779990",
        "colab": {
          "base_uri": "https://localhost:8080/",
          "height": 120
        }
      },
      "source": [
        "NBA1516[grepl(\"Curry\",NBA1516$Name),]"
      ],
      "execution_count": null,
      "outputs": [
        {
          "output_type": "display_data",
          "data": {
            "text/plain": [
              "    League Name          Team Position GamesPlayed TotalMinutesPlayed\n",
              "105 NBA    Seth Curry    SAC  SG       44           694              \n",
              "106 NBA    Stephen Curry GSW  PG       79          2705              \n",
              "    FieldGoalsMade FieldGoalsAttempted ThreesMade ThreesAttempted ⋯ Steals\n",
              "105 102             224                 50        111             ⋯  22   \n",
              "106 805            1597                402        887             ⋯ 169   \n",
              "    Turnovers Blocks PersonalFouls Disqualifications TotalPoints Technicals\n",
              "105  36        3      41           0                  299        0         \n",
              "106 261       16     161           0                 2375        1         \n",
              "    Ejections FlagrantFouls GamesStarted\n",
              "105 0         0              9          \n",
              "106 0         0             79          "
            ],
            "text/latex": "A data.frame: 2 × 25\n\\begin{tabular}{r|lllllllllllllllllllll}\n  & League & Name & Team & Position & GamesPlayed & TotalMinutesPlayed & FieldGoalsMade & FieldGoalsAttempted & ThreesMade & ThreesAttempted & ⋯ & Steals & Turnovers & Blocks & PersonalFouls & Disqualifications & TotalPoints & Technicals & Ejections & FlagrantFouls & GamesStarted\\\\\n  & <fct> & <chr> & <fct> & <fct> & <int> & <int> & <int> & <int> & <int> & <int> & ⋯ & <int> & <int> & <int> & <int> & <int> & <int> & <int> & <int> & <int> & <int>\\\\\n\\hline\n\t105 & NBA & Seth Curry    & SAC & SG & 44 &  694 & 102 &  224 &  50 & 111 & ⋯ &  22 &  36 &  3 &  41 & 0 &  299 & 0 & 0 & 0 &  9\\\\\n\t106 & NBA & Stephen Curry & GSW & PG & 79 & 2705 & 805 & 1597 & 402 & 887 & ⋯ & 169 & 261 & 16 & 161 & 0 & 2375 & 1 & 0 & 0 & 79\\\\\n\\end{tabular}\n",
            "text/markdown": "\nA data.frame: 2 × 25\n\n| <!--/--> | League &lt;fct&gt; | Name &lt;chr&gt; | Team &lt;fct&gt; | Position &lt;fct&gt; | GamesPlayed &lt;int&gt; | TotalMinutesPlayed &lt;int&gt; | FieldGoalsMade &lt;int&gt; | FieldGoalsAttempted &lt;int&gt; | ThreesMade &lt;int&gt; | ThreesAttempted &lt;int&gt; | ⋯ ⋯ | Steals &lt;int&gt; | Turnovers &lt;int&gt; | Blocks &lt;int&gt; | PersonalFouls &lt;int&gt; | Disqualifications &lt;int&gt; | TotalPoints &lt;int&gt; | Technicals &lt;int&gt; | Ejections &lt;int&gt; | FlagrantFouls &lt;int&gt; | GamesStarted &lt;int&gt; |\n|---|---|---|---|---|---|---|---|---|---|---|---|---|---|---|---|---|---|---|---|---|---|\n| 105 | NBA | Seth Curry    | SAC | SG | 44 |  694 | 102 |  224 |  50 | 111 | ⋯ |  22 |  36 |  3 |  41 | 0 |  299 | 0 | 0 | 0 |  9 |\n| 106 | NBA | Stephen Curry | GSW | PG | 79 | 2705 | 805 | 1597 | 402 | 887 | ⋯ | 169 | 261 | 16 | 161 | 0 | 2375 | 1 | 0 | 0 | 79 |\n\n",
            "text/html": [
              "<table>\n",
              "<caption>A data.frame: 2 × 25</caption>\n",
              "<thead>\n",
              "\t<tr><th></th><th scope=col>League</th><th scope=col>Name</th><th scope=col>Team</th><th scope=col>Position</th><th scope=col>GamesPlayed</th><th scope=col>TotalMinutesPlayed</th><th scope=col>FieldGoalsMade</th><th scope=col>FieldGoalsAttempted</th><th scope=col>ThreesMade</th><th scope=col>ThreesAttempted</th><th scope=col>⋯</th><th scope=col>Steals</th><th scope=col>Turnovers</th><th scope=col>Blocks</th><th scope=col>PersonalFouls</th><th scope=col>Disqualifications</th><th scope=col>TotalPoints</th><th scope=col>Technicals</th><th scope=col>Ejections</th><th scope=col>FlagrantFouls</th><th scope=col>GamesStarted</th></tr>\n",
              "\t<tr><th></th><th scope=col>&lt;fct&gt;</th><th scope=col>&lt;chr&gt;</th><th scope=col>&lt;fct&gt;</th><th scope=col>&lt;fct&gt;</th><th scope=col>&lt;int&gt;</th><th scope=col>&lt;int&gt;</th><th scope=col>&lt;int&gt;</th><th scope=col>&lt;int&gt;</th><th scope=col>&lt;int&gt;</th><th scope=col>&lt;int&gt;</th><th scope=col>⋯</th><th scope=col>&lt;int&gt;</th><th scope=col>&lt;int&gt;</th><th scope=col>&lt;int&gt;</th><th scope=col>&lt;int&gt;</th><th scope=col>&lt;int&gt;</th><th scope=col>&lt;int&gt;</th><th scope=col>&lt;int&gt;</th><th scope=col>&lt;int&gt;</th><th scope=col>&lt;int&gt;</th><th scope=col>&lt;int&gt;</th></tr>\n",
              "</thead>\n",
              "<tbody>\n",
              "\t<tr><th scope=row>105</th><td>NBA</td><td>Seth Curry   </td><td>SAC</td><td>SG</td><td>44</td><td> 694</td><td>102</td><td> 224</td><td> 50</td><td>111</td><td>⋯</td><td> 22</td><td> 36</td><td> 3</td><td> 41</td><td>0</td><td> 299</td><td>0</td><td>0</td><td>0</td><td> 9</td></tr>\n",
              "\t<tr><th scope=row>106</th><td>NBA</td><td>Stephen Curry</td><td>GSW</td><td>PG</td><td>79</td><td>2705</td><td>805</td><td>1597</td><td>402</td><td>887</td><td>⋯</td><td>169</td><td>261</td><td>16</td><td>161</td><td>0</td><td>2375</td><td>1</td><td>0</td><td>0</td><td>79</td></tr>\n",
              "</tbody>\n",
              "</table>\n"
            ]
          },
          "metadata": {
            "tags": []
          }
        }
      ]
    },
    {
      "cell_type": "code",
      "metadata": {
        "id": "gyI-04q6pWob",
        "outputId": "231a014a-728d-404d-f4f6-f067423579ee",
        "colab": {
          "base_uri": "https://localhost:8080/",
          "height": 297
        }
      },
      "source": [
        "NBA1516[grepl(\"James\",NBA1516$Name),]"
      ],
      "execution_count": null,
      "outputs": [
        {
          "output_type": "display_data",
          "data": {
            "text/plain": [
              "    League Name           Team Position GamesPlayed TotalMinutesPlayed\n",
              "15  NBA    James Anderson SAC  SG       51           721              \n",
              "132 NBA    James Ennis    NOR  SF       22           329              \n",
              "178 NBA    James Harden   HOU  SG       82          3121              \n",
              "222 NBA    Lebron James   CLE  SF       76          2710              \n",
              "231 NBA    James Johnson  TOR  PF       57           924              \n",
              "239 NBA    James Jones    CLE  SG       48           466              \n",
              "286 NBA    James Mcadoo   GSW  SG       41           265              \n",
              "471 NBA    James Young    BOS  SG       29           200              \n",
              "    FieldGoalsMade FieldGoalsAttempted ThreesMade ThreesAttempted ⋯ Steals\n",
              "15   67             178                 23         86             ⋯  21   \n",
              "132  54             113                 26         58             ⋯  16   \n",
              "178 710            1617                236        656             ⋯ 138   \n",
              "222 737            1416                 87        282             ⋯ 104   \n",
              "231 114             240                 20         66             ⋯  29   \n",
              "239  59             143                 41        104             ⋯  11   \n",
              "286  45              84                  1          2             ⋯  10   \n",
              "471  11              36                  6         26             ⋯   6   \n",
              "    Turnovers Blocks PersonalFouls Disqualifications TotalPoints Technicals\n",
              "15   42       14      54           0                  179        0         \n",
              "132  19        5      28           1                  159        0         \n",
              "178 374       51     229           1                 2376        2         \n",
              "222 249       49     143           0                 1920        3         \n",
              "231  54       33      84           0                  287        0         \n",
              "239  13       10      50           0                  180        1         \n",
              "286  16        8      39           0                  117        0         \n",
              "471   5        1      17           0                   29        0         \n",
              "    Ejections FlagrantFouls GamesStarted\n",
              "15  0         0             15          \n",
              "132 0         0              5          \n",
              "178 0         0             82          \n",
              "222 0         0             76          \n",
              "231 0         0             32          \n",
              "239 0         0              0          \n",
              "286 0         0              1          \n",
              "471 0         0              0          "
            ],
            "text/latex": "A data.frame: 8 × 25\n\\begin{tabular}{r|lllllllllllllllllllll}\n  & League & Name & Team & Position & GamesPlayed & TotalMinutesPlayed & FieldGoalsMade & FieldGoalsAttempted & ThreesMade & ThreesAttempted & ⋯ & Steals & Turnovers & Blocks & PersonalFouls & Disqualifications & TotalPoints & Technicals & Ejections & FlagrantFouls & GamesStarted\\\\\n  & <fct> & <chr> & <fct> & <fct> & <int> & <int> & <int> & <int> & <int> & <int> & ⋯ & <int> & <int> & <int> & <int> & <int> & <int> & <int> & <int> & <int> & <int>\\\\\n\\hline\n\t15 & NBA & James Anderson & SAC & SG & 51 &  721 &  67 &  178 &  23 &  86 & ⋯ &  21 &  42 & 14 &  54 & 0 &  179 & 0 & 0 & 0 & 15\\\\\n\t132 & NBA & James Ennis    & NOR & SF & 22 &  329 &  54 &  113 &  26 &  58 & ⋯ &  16 &  19 &  5 &  28 & 1 &  159 & 0 & 0 & 0 &  5\\\\\n\t178 & NBA & James Harden   & HOU & SG & 82 & 3121 & 710 & 1617 & 236 & 656 & ⋯ & 138 & 374 & 51 & 229 & 1 & 2376 & 2 & 0 & 0 & 82\\\\\n\t222 & NBA & Lebron James   & CLE & SF & 76 & 2710 & 737 & 1416 &  87 & 282 & ⋯ & 104 & 249 & 49 & 143 & 0 & 1920 & 3 & 0 & 0 & 76\\\\\n\t231 & NBA & James Johnson  & TOR & PF & 57 &  924 & 114 &  240 &  20 &  66 & ⋯ &  29 &  54 & 33 &  84 & 0 &  287 & 0 & 0 & 0 & 32\\\\\n\t239 & NBA & James Jones    & CLE & SG & 48 &  466 &  59 &  143 &  41 & 104 & ⋯ &  11 &  13 & 10 &  50 & 0 &  180 & 1 & 0 & 0 &  0\\\\\n\t286 & NBA & James Mcadoo   & GSW & SG & 41 &  265 &  45 &   84 &   1 &   2 & ⋯ &  10 &  16 &  8 &  39 & 0 &  117 & 0 & 0 & 0 &  1\\\\\n\t471 & NBA & James Young    & BOS & SG & 29 &  200 &  11 &   36 &   6 &  26 & ⋯ &   6 &   5 &  1 &  17 & 0 &   29 & 0 & 0 & 0 &  0\\\\\n\\end{tabular}\n",
            "text/markdown": "\nA data.frame: 8 × 25\n\n| <!--/--> | League &lt;fct&gt; | Name &lt;chr&gt; | Team &lt;fct&gt; | Position &lt;fct&gt; | GamesPlayed &lt;int&gt; | TotalMinutesPlayed &lt;int&gt; | FieldGoalsMade &lt;int&gt; | FieldGoalsAttempted &lt;int&gt; | ThreesMade &lt;int&gt; | ThreesAttempted &lt;int&gt; | ⋯ ⋯ | Steals &lt;int&gt; | Turnovers &lt;int&gt; | Blocks &lt;int&gt; | PersonalFouls &lt;int&gt; | Disqualifications &lt;int&gt; | TotalPoints &lt;int&gt; | Technicals &lt;int&gt; | Ejections &lt;int&gt; | FlagrantFouls &lt;int&gt; | GamesStarted &lt;int&gt; |\n|---|---|---|---|---|---|---|---|---|---|---|---|---|---|---|---|---|---|---|---|---|---|\n| 15 | NBA | James Anderson | SAC | SG | 51 |  721 |  67 |  178 |  23 |  86 | ⋯ |  21 |  42 | 14 |  54 | 0 |  179 | 0 | 0 | 0 | 15 |\n| 132 | NBA | James Ennis    | NOR | SF | 22 |  329 |  54 |  113 |  26 |  58 | ⋯ |  16 |  19 |  5 |  28 | 1 |  159 | 0 | 0 | 0 |  5 |\n| 178 | NBA | James Harden   | HOU | SG | 82 | 3121 | 710 | 1617 | 236 | 656 | ⋯ | 138 | 374 | 51 | 229 | 1 | 2376 | 2 | 0 | 0 | 82 |\n| 222 | NBA | Lebron James   | CLE | SF | 76 | 2710 | 737 | 1416 |  87 | 282 | ⋯ | 104 | 249 | 49 | 143 | 0 | 1920 | 3 | 0 | 0 | 76 |\n| 231 | NBA | James Johnson  | TOR | PF | 57 |  924 | 114 |  240 |  20 |  66 | ⋯ |  29 |  54 | 33 |  84 | 0 |  287 | 0 | 0 | 0 | 32 |\n| 239 | NBA | James Jones    | CLE | SG | 48 |  466 |  59 |  143 |  41 | 104 | ⋯ |  11 |  13 | 10 |  50 | 0 |  180 | 1 | 0 | 0 |  0 |\n| 286 | NBA | James Mcadoo   | GSW | SG | 41 |  265 |  45 |   84 |   1 |   2 | ⋯ |  10 |  16 |  8 |  39 | 0 |  117 | 0 | 0 | 0 |  1 |\n| 471 | NBA | James Young    | BOS | SG | 29 |  200 |  11 |   36 |   6 |  26 | ⋯ |   6 |   5 |  1 |  17 | 0 |   29 | 0 | 0 | 0 |  0 |\n\n",
            "text/html": [
              "<table>\n",
              "<caption>A data.frame: 8 × 25</caption>\n",
              "<thead>\n",
              "\t<tr><th></th><th scope=col>League</th><th scope=col>Name</th><th scope=col>Team</th><th scope=col>Position</th><th scope=col>GamesPlayed</th><th scope=col>TotalMinutesPlayed</th><th scope=col>FieldGoalsMade</th><th scope=col>FieldGoalsAttempted</th><th scope=col>ThreesMade</th><th scope=col>ThreesAttempted</th><th scope=col>⋯</th><th scope=col>Steals</th><th scope=col>Turnovers</th><th scope=col>Blocks</th><th scope=col>PersonalFouls</th><th scope=col>Disqualifications</th><th scope=col>TotalPoints</th><th scope=col>Technicals</th><th scope=col>Ejections</th><th scope=col>FlagrantFouls</th><th scope=col>GamesStarted</th></tr>\n",
              "\t<tr><th></th><th scope=col>&lt;fct&gt;</th><th scope=col>&lt;chr&gt;</th><th scope=col>&lt;fct&gt;</th><th scope=col>&lt;fct&gt;</th><th scope=col>&lt;int&gt;</th><th scope=col>&lt;int&gt;</th><th scope=col>&lt;int&gt;</th><th scope=col>&lt;int&gt;</th><th scope=col>&lt;int&gt;</th><th scope=col>&lt;int&gt;</th><th scope=col>⋯</th><th scope=col>&lt;int&gt;</th><th scope=col>&lt;int&gt;</th><th scope=col>&lt;int&gt;</th><th scope=col>&lt;int&gt;</th><th scope=col>&lt;int&gt;</th><th scope=col>&lt;int&gt;</th><th scope=col>&lt;int&gt;</th><th scope=col>&lt;int&gt;</th><th scope=col>&lt;int&gt;</th><th scope=col>&lt;int&gt;</th></tr>\n",
              "</thead>\n",
              "<tbody>\n",
              "\t<tr><th scope=row>15</th><td>NBA</td><td>James Anderson</td><td>SAC</td><td>SG</td><td>51</td><td> 721</td><td> 67</td><td> 178</td><td> 23</td><td> 86</td><td>⋯</td><td> 21</td><td> 42</td><td>14</td><td> 54</td><td>0</td><td> 179</td><td>0</td><td>0</td><td>0</td><td>15</td></tr>\n",
              "\t<tr><th scope=row>132</th><td>NBA</td><td>James Ennis   </td><td>NOR</td><td>SF</td><td>22</td><td> 329</td><td> 54</td><td> 113</td><td> 26</td><td> 58</td><td>⋯</td><td> 16</td><td> 19</td><td> 5</td><td> 28</td><td>1</td><td> 159</td><td>0</td><td>0</td><td>0</td><td> 5</td></tr>\n",
              "\t<tr><th scope=row>178</th><td>NBA</td><td>James Harden  </td><td>HOU</td><td>SG</td><td>82</td><td>3121</td><td>710</td><td>1617</td><td>236</td><td>656</td><td>⋯</td><td>138</td><td>374</td><td>51</td><td>229</td><td>1</td><td>2376</td><td>2</td><td>0</td><td>0</td><td>82</td></tr>\n",
              "\t<tr><th scope=row>222</th><td>NBA</td><td>Lebron James  </td><td>CLE</td><td>SF</td><td>76</td><td>2710</td><td>737</td><td>1416</td><td> 87</td><td>282</td><td>⋯</td><td>104</td><td>249</td><td>49</td><td>143</td><td>0</td><td>1920</td><td>3</td><td>0</td><td>0</td><td>76</td></tr>\n",
              "\t<tr><th scope=row>231</th><td>NBA</td><td>James Johnson </td><td>TOR</td><td>PF</td><td>57</td><td> 924</td><td>114</td><td> 240</td><td> 20</td><td> 66</td><td>⋯</td><td> 29</td><td> 54</td><td>33</td><td> 84</td><td>0</td><td> 287</td><td>0</td><td>0</td><td>0</td><td>32</td></tr>\n",
              "\t<tr><th scope=row>239</th><td>NBA</td><td>James Jones   </td><td>CLE</td><td>SG</td><td>48</td><td> 466</td><td> 59</td><td> 143</td><td> 41</td><td>104</td><td>⋯</td><td> 11</td><td> 13</td><td>10</td><td> 50</td><td>0</td><td> 180</td><td>1</td><td>0</td><td>0</td><td> 0</td></tr>\n",
              "\t<tr><th scope=row>286</th><td>NBA</td><td>James Mcadoo  </td><td>GSW</td><td>SG</td><td>41</td><td> 265</td><td> 45</td><td>  84</td><td>  1</td><td>  2</td><td>⋯</td><td> 10</td><td> 16</td><td> 8</td><td> 39</td><td>0</td><td> 117</td><td>0</td><td>0</td><td>0</td><td> 1</td></tr>\n",
              "\t<tr><th scope=row>471</th><td>NBA</td><td>James Young   </td><td>BOS</td><td>SG</td><td>29</td><td> 200</td><td> 11</td><td>  36</td><td>  6</td><td> 26</td><td>⋯</td><td>  6</td><td>  5</td><td> 1</td><td> 17</td><td>0</td><td>  29</td><td>0</td><td>0</td><td>0</td><td> 0</td></tr>\n",
              "</tbody>\n",
              "</table>\n"
            ]
          },
          "metadata": {
            "tags": []
          }
        }
      ]
    },
    {
      "cell_type": "code",
      "metadata": {
        "id": "NbxxYOwlpbUK",
        "outputId": "229e6b49-2b85-4d29-f820-e0e41bd11d47",
        "colab": {
          "base_uri": "https://localhost:8080/",
          "height": 68
        }
      },
      "source": [
        "install.packages(\"data.table\")\n",
        "library(data.table)"
      ],
      "execution_count": null,
      "outputs": [
        {
          "output_type": "stream",
          "text": [
            "Installing package into ‘/usr/local/lib/R/site-library’\n",
            "(as ‘lib’ is unspecified)\n",
            "\n"
          ],
          "name": "stderr"
        }
      ]
    },
    {
      "cell_type": "code",
      "metadata": {
        "id": "22QiyjFrpyJF"
      },
      "source": [
        "NBA1516DT <- data.table(NBA1516)\n",
        "\n"
      ],
      "execution_count": null,
      "outputs": []
    },
    {
      "cell_type": "code",
      "metadata": {
        "id": "3SOtApttqxyO",
        "outputId": "300c1301-0204-43bb-f770-47fe9d260b94",
        "colab": {
          "base_uri": "https://localhost:8080/",
          "height": 246
        }
      },
      "source": [
        "NBA1516DT[grepl(\"James\", Name)]"
      ],
      "execution_count": null,
      "outputs": [
        {
          "output_type": "display_data",
          "data": {
            "text/plain": [
              "  League Name           Team Position GamesPlayed TotalMinutesPlayed\n",
              "1 NBA    James Anderson SAC  SG       51           721              \n",
              "2 NBA    James Ennis    NOR  SF       22           329              \n",
              "3 NBA    James Harden   HOU  SG       82          3121              \n",
              "4 NBA    Lebron James   CLE  SF       76          2710              \n",
              "5 NBA    James Johnson  TOR  PF       57           924              \n",
              "6 NBA    James Jones    CLE  SG       48           466              \n",
              "7 NBA    James Mcadoo   GSW  SG       41           265              \n",
              "8 NBA    James Young    BOS  SG       29           200              \n",
              "  FieldGoalsMade FieldGoalsAttempted ThreesMade ThreesAttempted ⋯ Steals\n",
              "1  67             178                 23         86             ⋯  21   \n",
              "2  54             113                 26         58             ⋯  16   \n",
              "3 710            1617                236        656             ⋯ 138   \n",
              "4 737            1416                 87        282             ⋯ 104   \n",
              "5 114             240                 20         66             ⋯  29   \n",
              "6  59             143                 41        104             ⋯  11   \n",
              "7  45              84                  1          2             ⋯  10   \n",
              "8  11              36                  6         26             ⋯   6   \n",
              "  Turnovers Blocks PersonalFouls Disqualifications TotalPoints Technicals\n",
              "1  42       14      54           0                  179        0         \n",
              "2  19        5      28           1                  159        0         \n",
              "3 374       51     229           1                 2376        2         \n",
              "4 249       49     143           0                 1920        3         \n",
              "5  54       33      84           0                  287        0         \n",
              "6  13       10      50           0                  180        1         \n",
              "7  16        8      39           0                  117        0         \n",
              "8   5        1      17           0                   29        0         \n",
              "  Ejections FlagrantFouls GamesStarted\n",
              "1 0         0             15          \n",
              "2 0         0              5          \n",
              "3 0         0             82          \n",
              "4 0         0             76          \n",
              "5 0         0             32          \n",
              "6 0         0              0          \n",
              "7 0         0              1          \n",
              "8 0         0              0          "
            ],
            "text/latex": "A data.table: 8 × 25\n\\begin{tabular}{lllllllllllllllllllll}\n League & Name & Team & Position & GamesPlayed & TotalMinutesPlayed & FieldGoalsMade & FieldGoalsAttempted & ThreesMade & ThreesAttempted & ⋯ & Steals & Turnovers & Blocks & PersonalFouls & Disqualifications & TotalPoints & Technicals & Ejections & FlagrantFouls & GamesStarted\\\\\n <fct> & <chr> & <fct> & <fct> & <int> & <int> & <int> & <int> & <int> & <int> & ⋯ & <int> & <int> & <int> & <int> & <int> & <int> & <int> & <int> & <int> & <int>\\\\\n\\hline\n\t NBA & James Anderson & SAC & SG & 51 &  721 &  67 &  178 &  23 &  86 & ⋯ &  21 &  42 & 14 &  54 & 0 &  179 & 0 & 0 & 0 & 15\\\\\n\t NBA & James Ennis    & NOR & SF & 22 &  329 &  54 &  113 &  26 &  58 & ⋯ &  16 &  19 &  5 &  28 & 1 &  159 & 0 & 0 & 0 &  5\\\\\n\t NBA & James Harden   & HOU & SG & 82 & 3121 & 710 & 1617 & 236 & 656 & ⋯ & 138 & 374 & 51 & 229 & 1 & 2376 & 2 & 0 & 0 & 82\\\\\n\t NBA & Lebron James   & CLE & SF & 76 & 2710 & 737 & 1416 &  87 & 282 & ⋯ & 104 & 249 & 49 & 143 & 0 & 1920 & 3 & 0 & 0 & 76\\\\\n\t NBA & James Johnson  & TOR & PF & 57 &  924 & 114 &  240 &  20 &  66 & ⋯ &  29 &  54 & 33 &  84 & 0 &  287 & 0 & 0 & 0 & 32\\\\\n\t NBA & James Jones    & CLE & SG & 48 &  466 &  59 &  143 &  41 & 104 & ⋯ &  11 &  13 & 10 &  50 & 0 &  180 & 1 & 0 & 0 &  0\\\\\n\t NBA & James Mcadoo   & GSW & SG & 41 &  265 &  45 &   84 &   1 &   2 & ⋯ &  10 &  16 &  8 &  39 & 0 &  117 & 0 & 0 & 0 &  1\\\\\n\t NBA & James Young    & BOS & SG & 29 &  200 &  11 &   36 &   6 &  26 & ⋯ &   6 &   5 &  1 &  17 & 0 &   29 & 0 & 0 & 0 &  0\\\\\n\\end{tabular}\n",
            "text/markdown": "\nA data.table: 8 × 25\n\n| League &lt;fct&gt; | Name &lt;chr&gt; | Team &lt;fct&gt; | Position &lt;fct&gt; | GamesPlayed &lt;int&gt; | TotalMinutesPlayed &lt;int&gt; | FieldGoalsMade &lt;int&gt; | FieldGoalsAttempted &lt;int&gt; | ThreesMade &lt;int&gt; | ThreesAttempted &lt;int&gt; | ⋯ ⋯ | Steals &lt;int&gt; | Turnovers &lt;int&gt; | Blocks &lt;int&gt; | PersonalFouls &lt;int&gt; | Disqualifications &lt;int&gt; | TotalPoints &lt;int&gt; | Technicals &lt;int&gt; | Ejections &lt;int&gt; | FlagrantFouls &lt;int&gt; | GamesStarted &lt;int&gt; |\n|---|---|---|---|---|---|---|---|---|---|---|---|---|---|---|---|---|---|---|---|---|\n| NBA | James Anderson | SAC | SG | 51 |  721 |  67 |  178 |  23 |  86 | ⋯ |  21 |  42 | 14 |  54 | 0 |  179 | 0 | 0 | 0 | 15 |\n| NBA | James Ennis    | NOR | SF | 22 |  329 |  54 |  113 |  26 |  58 | ⋯ |  16 |  19 |  5 |  28 | 1 |  159 | 0 | 0 | 0 |  5 |\n| NBA | James Harden   | HOU | SG | 82 | 3121 | 710 | 1617 | 236 | 656 | ⋯ | 138 | 374 | 51 | 229 | 1 | 2376 | 2 | 0 | 0 | 82 |\n| NBA | Lebron James   | CLE | SF | 76 | 2710 | 737 | 1416 |  87 | 282 | ⋯ | 104 | 249 | 49 | 143 | 0 | 1920 | 3 | 0 | 0 | 76 |\n| NBA | James Johnson  | TOR | PF | 57 |  924 | 114 |  240 |  20 |  66 | ⋯ |  29 |  54 | 33 |  84 | 0 |  287 | 0 | 0 | 0 | 32 |\n| NBA | James Jones    | CLE | SG | 48 |  466 |  59 |  143 |  41 | 104 | ⋯ |  11 |  13 | 10 |  50 | 0 |  180 | 1 | 0 | 0 |  0 |\n| NBA | James Mcadoo   | GSW | SG | 41 |  265 |  45 |   84 |   1 |   2 | ⋯ |  10 |  16 |  8 |  39 | 0 |  117 | 0 | 0 | 0 |  1 |\n| NBA | James Young    | BOS | SG | 29 |  200 |  11 |   36 |   6 |  26 | ⋯ |   6 |   5 |  1 |  17 | 0 |   29 | 0 | 0 | 0 |  0 |\n\n",
            "text/html": [
              "<table>\n",
              "<caption>A data.table: 8 × 25</caption>\n",
              "<thead>\n",
              "\t<tr><th scope=col>League</th><th scope=col>Name</th><th scope=col>Team</th><th scope=col>Position</th><th scope=col>GamesPlayed</th><th scope=col>TotalMinutesPlayed</th><th scope=col>FieldGoalsMade</th><th scope=col>FieldGoalsAttempted</th><th scope=col>ThreesMade</th><th scope=col>ThreesAttempted</th><th scope=col>⋯</th><th scope=col>Steals</th><th scope=col>Turnovers</th><th scope=col>Blocks</th><th scope=col>PersonalFouls</th><th scope=col>Disqualifications</th><th scope=col>TotalPoints</th><th scope=col>Technicals</th><th scope=col>Ejections</th><th scope=col>FlagrantFouls</th><th scope=col>GamesStarted</th></tr>\n",
              "\t<tr><th scope=col>&lt;fct&gt;</th><th scope=col>&lt;chr&gt;</th><th scope=col>&lt;fct&gt;</th><th scope=col>&lt;fct&gt;</th><th scope=col>&lt;int&gt;</th><th scope=col>&lt;int&gt;</th><th scope=col>&lt;int&gt;</th><th scope=col>&lt;int&gt;</th><th scope=col>&lt;int&gt;</th><th scope=col>&lt;int&gt;</th><th scope=col>⋯</th><th scope=col>&lt;int&gt;</th><th scope=col>&lt;int&gt;</th><th scope=col>&lt;int&gt;</th><th scope=col>&lt;int&gt;</th><th scope=col>&lt;int&gt;</th><th scope=col>&lt;int&gt;</th><th scope=col>&lt;int&gt;</th><th scope=col>&lt;int&gt;</th><th scope=col>&lt;int&gt;</th><th scope=col>&lt;int&gt;</th></tr>\n",
              "</thead>\n",
              "<tbody>\n",
              "\t<tr><td>NBA</td><td>James Anderson</td><td>SAC</td><td>SG</td><td>51</td><td> 721</td><td> 67</td><td> 178</td><td> 23</td><td> 86</td><td>⋯</td><td> 21</td><td> 42</td><td>14</td><td> 54</td><td>0</td><td> 179</td><td>0</td><td>0</td><td>0</td><td>15</td></tr>\n",
              "\t<tr><td>NBA</td><td>James Ennis   </td><td>NOR</td><td>SF</td><td>22</td><td> 329</td><td> 54</td><td> 113</td><td> 26</td><td> 58</td><td>⋯</td><td> 16</td><td> 19</td><td> 5</td><td> 28</td><td>1</td><td> 159</td><td>0</td><td>0</td><td>0</td><td> 5</td></tr>\n",
              "\t<tr><td>NBA</td><td>James Harden  </td><td>HOU</td><td>SG</td><td>82</td><td>3121</td><td>710</td><td>1617</td><td>236</td><td>656</td><td>⋯</td><td>138</td><td>374</td><td>51</td><td>229</td><td>1</td><td>2376</td><td>2</td><td>0</td><td>0</td><td>82</td></tr>\n",
              "\t<tr><td>NBA</td><td>Lebron James  </td><td>CLE</td><td>SF</td><td>76</td><td>2710</td><td>737</td><td>1416</td><td> 87</td><td>282</td><td>⋯</td><td>104</td><td>249</td><td>49</td><td>143</td><td>0</td><td>1920</td><td>3</td><td>0</td><td>0</td><td>76</td></tr>\n",
              "\t<tr><td>NBA</td><td>James Johnson </td><td>TOR</td><td>PF</td><td>57</td><td> 924</td><td>114</td><td> 240</td><td> 20</td><td> 66</td><td>⋯</td><td> 29</td><td> 54</td><td>33</td><td> 84</td><td>0</td><td> 287</td><td>0</td><td>0</td><td>0</td><td>32</td></tr>\n",
              "\t<tr><td>NBA</td><td>James Jones   </td><td>CLE</td><td>SG</td><td>48</td><td> 466</td><td> 59</td><td> 143</td><td> 41</td><td>104</td><td>⋯</td><td> 11</td><td> 13</td><td>10</td><td> 50</td><td>0</td><td> 180</td><td>1</td><td>0</td><td>0</td><td> 0</td></tr>\n",
              "\t<tr><td>NBA</td><td>James Mcadoo  </td><td>GSW</td><td>SG</td><td>41</td><td> 265</td><td> 45</td><td>  84</td><td>  1</td><td>  2</td><td>⋯</td><td> 10</td><td> 16</td><td> 8</td><td> 39</td><td>0</td><td> 117</td><td>0</td><td>0</td><td>0</td><td> 1</td></tr>\n",
              "\t<tr><td>NBA</td><td>James Young   </td><td>BOS</td><td>SG</td><td>29</td><td> 200</td><td> 11</td><td>  36</td><td>  6</td><td> 26</td><td>⋯</td><td>  6</td><td>  5</td><td> 1</td><td> 17</td><td>0</td><td>  29</td><td>0</td><td>0</td><td>0</td><td> 0</td></tr>\n",
              "</tbody>\n",
              "</table>\n"
            ]
          },
          "metadata": {
            "tags": []
          }
        }
      ]
    },
    {
      "cell_type": "code",
      "metadata": {
        "id": "N-aN4RIEq08x",
        "outputId": "962c3cd3-692a-4bd4-ef27-773d7df9af02",
        "colab": {
          "base_uri": "https://localhost:8080/",
          "height": 998
        }
      },
      "source": [
        "NBA1516DT[GamesPlayed>80]"
      ],
      "execution_count": null,
      "outputs": [
        {
          "output_type": "display_data",
          "data": {
            "text/plain": [
              "   League Name             Team Position GamesPlayed TotalMinutesPlayed\n",
              "1  NBA    Al-farouq Aminu  POR  SF       82          2342              \n",
              "2  NBA    Trevor Ariza     HOU  SF       81          2860              \n",
              "3  NBA    Will Barton      DEN  SG       82          2355              \n",
              "4  NBA    Aron Baynes      DET  PF       81          1241              \n",
              "5  NBA    Bismack Biyombo  TOR  PF       82          1810              \n",
              "6  NBA    Corey Brewer     HOU  SG       82          1670              \n",
              "7  NBA    Allen Crabbe     POR  SF       81          2111              \n",
              "8  NBA    Ed Davis         POR  PF       81          1684              \n",
              "9  NBA    Gorgui Dieng     MIN  C        82          2222              \n",
              "10 NBA    Andre Drummond   DET  C        81          2664              \n",
              "11 NBA    Jared Dudley     WAS  SG       81          2098              \n",
              "12 NBA    Monta Ellis      IND  PG       81          2733              \n",
              "13 NBA    Randy Foye       OKC  SG       81          1640              \n",
              "14 NBA    Langsto Galloway NYK  PG       82          2032              \n",
              "15 NBA    Paul George      IND  SF       81          2828              \n",
              "16 NBA    Draymond Green   GSW  SF       81          2807              \n",
              "17 NBA    James Harden     HOU  SG       82          3121              \n",
              "18 NBA    Roy Hibbert      LAL  C        81          1881              \n",
              "19 NBA    Al Horford       ATL  PF       82          2638              \n",
              "20 NBA    Joe Ingles       UTA  SF       81          1241              \n",
              "21 NBA    Joe Johnson      MIA  SF       81          2703              \n",
              "22 NBA    Frank Kaminsky   CHA  PF       81          1713              \n",
              "23 NBA    Enes Kanter      OKL  C        82          1721              \n",
              "24 NBA    Zach Lavine      MIN  PG       82          2295              \n",
              "25 NBA    Robin Lopez      NYK  C        82          2213              \n",
              "26 NBA    T.j. Mcconnell   PHI  PG       81          1609              \n",
              "27 NBA    Doug Mcdermott   CHI  SF       81          1860              \n",
              "28 NBA    Patty Mills      SAN  PG       81          1659              \n",
              "29 NBA    Paul Millsap     ATL  PF       81          2640              \n",
              "30 NBA    Shabazz Muhammad MIN  SF       82          1678              \n",
              "31 NBA    Raul Neto        UTA  PG       81          1501              \n",
              "32 NBA    Mason Plumlee    POR  PF       82          2087              \n",
              "33 NBA    Julius Randle    LAL  PF       81          2287              \n",
              "34 NBA    Ramon Sessions   WAS  PG       82          1667              \n",
              "35 NBA    Jared Sullinger  BOS  PF       81          1917              \n",
              "36 NBA    Isaiah Thomas    BOS  PG       82          2647              \n",
              "37 NBA    Tristan Thompson CLE  C        82          2269              \n",
              "38 NBA    Karl-antho Towns MIN  C        82          2621              \n",
              "39 NBA    P.j. Tucker      PHO  SF       82          2540              \n",
              "40 NBA    Evan Turner      BOS  SG       81          2270              \n",
              "41 NBA    Kemba Walker     CHA  PG       81          2885              \n",
              "42 NBA    Andrew Wiggins   MIN  SF       81          2844              \n",
              "43 NBA    Marvin Williams  CHA  PF       81          2339              \n",
              "   FieldGoalsMade FieldGoalsAttempted ThreesMade ThreesAttempted ⋯ Steals\n",
              "1  299             719                126        349             ⋯  72   \n",
              "2  357             858                185        497             ⋯ 161   \n",
              "3  426             984                112        324             ⋯  71   \n",
              "4  194             384                  0          2             ⋯  21   \n",
              "5  156             288                  0          1             ⋯  19   \n",
              "6  212             552                 61        225             ⋯  84   \n",
              "7  312             678                112        284             ⋯  63   \n",
              "8  206             337                  0          0             ⋯  57   \n",
              "9  308             578                  6         20             ⋯  94   \n",
              "10 552            1061                  2          6             ⋯ 119   \n",
              "11 233             487                100        239             ⋯  75   \n",
              "12 436            1021                 87        281             ⋯ 149   \n",
              "13 168             481                 75        250             ⋯  39   \n",
              "14 231             588                 77        224             ⋯  77   \n",
              "15 605            1448                210        565             ⋯ 152   \n",
              "16 401             819                100        258             ⋯ 118   \n",
              "17 710            1617                236        656             ⋯ 138   \n",
              "18 182             411                  0          2             ⋯  32   \n",
              "19 529            1049                 88        257             ⋯  67   \n",
              "20 124             291                 81        210             ⋯  55   \n",
              "21 377             859                120        313             ⋯  61   \n",
              "22 215             525                 68        202             ⋯  37   \n",
              "23 415             720                 10         21             ⋯  26   \n",
              "24 433             960                123        316             ⋯  69   \n",
              "25 357             662                  0          1             ⋯  16   \n",
              "26 218             464                 31         89             ⋯  95   \n",
              "27 291             644                110        259             ⋯  14   \n",
              "28 260             612                123        320             ⋯  59   \n",
              "29 501            1067                 74        232             ⋯ 148   \n",
              "30 317             681                 44        152             ⋯  24   \n",
              "31 180             418                 64        162             ⋯  62   \n",
              "32 267             517                  0          4             ⋯  68   \n",
              "33 358             835                 10         36             ⋯  53   \n",
              "34 280             592                 36        111             ⋯  47   \n",
              "35 351             807                 29        104             ⋯  75   \n",
              "36 591            1382                167        465             ⋯  91   \n",
              "37 247             420                  0          0             ⋯  38   \n",
              "38 625            1152                 30         88             ⋯  58   \n",
              "39 239             582                 68        206             ⋯ 106   \n",
              "40 343             753                 20         83             ⋯  80   \n",
              "41 568            1332                182        490             ⋯ 127   \n",
              "42 594            1294                 57        190             ⋯  78   \n",
              "43 338             747                152        379             ⋯  58   \n",
              "   Turnovers Blocks PersonalFouls Disqualifications TotalPoints Technicals\n",
              "1  120        53    171           0                  839         3        \n",
              "2  113        26    177           0                 1025         2        \n",
              "3  139        39    147           0                 1180         2        \n",
              "4   67        52    151           0                  514         0        \n",
              "5   71       133    225           2                  454         3        \n",
              "6   78        19    168           1                  590         0        \n",
              "7   64        16    192           2                  834         0        \n",
              "8   64        72    202           2                  526         2        \n",
              "9  140        96    219           0                  827         1        \n",
              "10 154       112    245           2                 1314         7        \n",
              "11  80        18    190           1                  638         1        \n",
              "12 203        38    174           0                 1121         1        \n",
              "13  86        29    131           0                  472         0        \n",
              "14  61        22    177           2                  625         0        \n",
              "15 265        29    230           1                 1874         6        \n",
              "16 259       111    240           2                 1131        11        \n",
              "17 374        51    229           1                 2376         2        \n",
              "18  76       110    252           3                  481         2        \n",
              "19 107       122    163           0                 1249         1        \n",
              "20  65         4     98           0                  342         1        \n",
              "21 160         4    146           0                  992         1        \n",
              "22  58        43    126           0                  606         0        \n",
              "23 115        33    166           1                 1040         2        \n",
              "24 155        17    193           1                 1150         0        \n",
              "25 133       129    182           2                  842         3        \n",
              "26 140        10    114           0                  493         0        \n",
              "27  52         6    127           0                  764         0        \n",
              "28  76         6    102           0                  690         0        \n",
              "29 191       140    237           2                 1385         4        \n",
              "30  70         7     94           0                  863         0        \n",
              "31 109         2    122           1                  476         0        \n",
              "32 154        82    253           4                  749         1        \n",
              "33 149        29    242           2                  919         0        \n",
              "34 115         5    102           0                  810         0        \n",
              "35 102        47    209           2                  834         2        \n",
              "36 220         9    167           1                 1823         9        \n",
              "37  61        51    202           0                  643         1        \n",
              "38 183       138    245           1                 1503         2        \n",
              "39 111        20    202           3                  652         4        \n",
              "40 169        28    139           0                  854         2        \n",
              "41 171        39    111           0                 1689         5        \n",
              "42 182        46    165           1                 1675         1        \n",
              "43  62        77    133           1                  948         0        \n",
              "   Ejections FlagrantFouls GamesStarted\n",
              "1  0         0             82          \n",
              "2  0         0             81          \n",
              "3  0         0              1          \n",
              "4  0         0              1          \n",
              "5  0         0             22          \n",
              "6  0         0             12          \n",
              "7  0         0              8          \n",
              "8  0         0              0          \n",
              "9  0         0             39          \n",
              "10 0         0             81          \n",
              "11 0         0             41          \n",
              "12 0         0             81          \n",
              "13 0         0              8          \n",
              "14 0         0              7          \n",
              "15 0         0             81          \n",
              "16 0         0             81          \n",
              "17 0         0             82          \n",
              "18 0         0             81          \n",
              "19 0         0             82          \n",
              "20 0         0              2          \n",
              "21 0         0             81          \n",
              "22 0         0              3          \n",
              "23 0         0              1          \n",
              "24 0         0             33          \n",
              "25 0         0             82          \n",
              "26 0         0             17          \n",
              "27 0         0              4          \n",
              "28 0         0              3          \n",
              "29 0         0             81          \n",
              "30 0         0              0          \n",
              "31 0         0             53          \n",
              "32 0         0             82          \n",
              "33 0         0             60          \n",
              "34 0         0              5          \n",
              "35 0         0             73          \n",
              "36 0         0             79          \n",
              "37 0         0             34          \n",
              "38 0         0             82          \n",
              "39 0         0             80          \n",
              "40 0         0             12          \n",
              "41 0         0             81          \n",
              "42 0         0             81          \n",
              "43 0         0             81          "
            ],
            "text/latex": "A data.table: 43 × 25\n\\begin{tabular}{lllllllllllllllllllll}\n League & Name & Team & Position & GamesPlayed & TotalMinutesPlayed & FieldGoalsMade & FieldGoalsAttempted & ThreesMade & ThreesAttempted & ⋯ & Steals & Turnovers & Blocks & PersonalFouls & Disqualifications & TotalPoints & Technicals & Ejections & FlagrantFouls & GamesStarted\\\\\n <fct> & <chr> & <fct> & <fct> & <int> & <int> & <int> & <int> & <int> & <int> & ⋯ & <int> & <int> & <int> & <int> & <int> & <int> & <int> & <int> & <int> & <int>\\\\\n\\hline\n\t NBA & Al-farouq Aminu  & POR & SF & 82 & 2342 & 299 &  719 & 126 & 349 & ⋯ &  72 & 120 &  53 & 171 & 0 &  839 &  3 & 0 & 0 & 82\\\\\n\t NBA & Trevor Ariza     & HOU & SF & 81 & 2860 & 357 &  858 & 185 & 497 & ⋯ & 161 & 113 &  26 & 177 & 0 & 1025 &  2 & 0 & 0 & 81\\\\\n\t NBA & Will Barton      & DEN & SG & 82 & 2355 & 426 &  984 & 112 & 324 & ⋯ &  71 & 139 &  39 & 147 & 0 & 1180 &  2 & 0 & 0 &  1\\\\\n\t NBA & Aron Baynes      & DET & PF & 81 & 1241 & 194 &  384 &   0 &   2 & ⋯ &  21 &  67 &  52 & 151 & 0 &  514 &  0 & 0 & 0 &  1\\\\\n\t NBA & Bismack Biyombo  & TOR & PF & 82 & 1810 & 156 &  288 &   0 &   1 & ⋯ &  19 &  71 & 133 & 225 & 2 &  454 &  3 & 0 & 0 & 22\\\\\n\t NBA & Corey Brewer     & HOU & SG & 82 & 1670 & 212 &  552 &  61 & 225 & ⋯ &  84 &  78 &  19 & 168 & 1 &  590 &  0 & 0 & 0 & 12\\\\\n\t NBA & Allen Crabbe     & POR & SF & 81 & 2111 & 312 &  678 & 112 & 284 & ⋯ &  63 &  64 &  16 & 192 & 2 &  834 &  0 & 0 & 0 &  8\\\\\n\t NBA & Ed Davis         & POR & PF & 81 & 1684 & 206 &  337 &   0 &   0 & ⋯ &  57 &  64 &  72 & 202 & 2 &  526 &  2 & 0 & 0 &  0\\\\\n\t NBA & Gorgui Dieng     & MIN & C  & 82 & 2222 & 308 &  578 &   6 &  20 & ⋯ &  94 & 140 &  96 & 219 & 0 &  827 &  1 & 0 & 0 & 39\\\\\n\t NBA & Andre Drummond   & DET & C  & 81 & 2664 & 552 & 1061 &   2 &   6 & ⋯ & 119 & 154 & 112 & 245 & 2 & 1314 &  7 & 0 & 0 & 81\\\\\n\t NBA & Jared Dudley     & WAS & SG & 81 & 2098 & 233 &  487 & 100 & 239 & ⋯ &  75 &  80 &  18 & 190 & 1 &  638 &  1 & 0 & 0 & 41\\\\\n\t NBA & Monta Ellis      & IND & PG & 81 & 2733 & 436 & 1021 &  87 & 281 & ⋯ & 149 & 203 &  38 & 174 & 0 & 1121 &  1 & 0 & 0 & 81\\\\\n\t NBA & Randy Foye       & OKC & SG & 81 & 1640 & 168 &  481 &  75 & 250 & ⋯ &  39 &  86 &  29 & 131 & 0 &  472 &  0 & 0 & 0 &  8\\\\\n\t NBA & Langsto Galloway & NYK & PG & 82 & 2032 & 231 &  588 &  77 & 224 & ⋯ &  77 &  61 &  22 & 177 & 2 &  625 &  0 & 0 & 0 &  7\\\\\n\t NBA & Paul George      & IND & SF & 81 & 2828 & 605 & 1448 & 210 & 565 & ⋯ & 152 & 265 &  29 & 230 & 1 & 1874 &  6 & 0 & 0 & 81\\\\\n\t NBA & Draymond Green   & GSW & SF & 81 & 2807 & 401 &  819 & 100 & 258 & ⋯ & 118 & 259 & 111 & 240 & 2 & 1131 & 11 & 0 & 0 & 81\\\\\n\t NBA & James Harden     & HOU & SG & 82 & 3121 & 710 & 1617 & 236 & 656 & ⋯ & 138 & 374 &  51 & 229 & 1 & 2376 &  2 & 0 & 0 & 82\\\\\n\t NBA & Roy Hibbert      & LAL & C  & 81 & 1881 & 182 &  411 &   0 &   2 & ⋯ &  32 &  76 & 110 & 252 & 3 &  481 &  2 & 0 & 0 & 81\\\\\n\t NBA & Al Horford       & ATL & PF & 82 & 2638 & 529 & 1049 &  88 & 257 & ⋯ &  67 & 107 & 122 & 163 & 0 & 1249 &  1 & 0 & 0 & 82\\\\\n\t NBA & Joe Ingles       & UTA & SF & 81 & 1241 & 124 &  291 &  81 & 210 & ⋯ &  55 &  65 &   4 &  98 & 0 &  342 &  1 & 0 & 0 &  2\\\\\n\t NBA & Joe Johnson      & MIA & SF & 81 & 2703 & 377 &  859 & 120 & 313 & ⋯ &  61 & 160 &   4 & 146 & 0 &  992 &  1 & 0 & 0 & 81\\\\\n\t NBA & Frank Kaminsky   & CHA & PF & 81 & 1713 & 215 &  525 &  68 & 202 & ⋯ &  37 &  58 &  43 & 126 & 0 &  606 &  0 & 0 & 0 &  3\\\\\n\t NBA & Enes Kanter      & OKL & C  & 82 & 1721 & 415 &  720 &  10 &  21 & ⋯ &  26 & 115 &  33 & 166 & 1 & 1040 &  2 & 0 & 0 &  1\\\\\n\t NBA & Zach Lavine      & MIN & PG & 82 & 2295 & 433 &  960 & 123 & 316 & ⋯ &  69 & 155 &  17 & 193 & 1 & 1150 &  0 & 0 & 0 & 33\\\\\n\t NBA & Robin Lopez      & NYK & C  & 82 & 2213 & 357 &  662 &   0 &   1 & ⋯ &  16 & 133 & 129 & 182 & 2 &  842 &  3 & 0 & 0 & 82\\\\\n\t NBA & T.j. Mcconnell   & PHI & PG & 81 & 1609 & 218 &  464 &  31 &  89 & ⋯ &  95 & 140 &  10 & 114 & 0 &  493 &  0 & 0 & 0 & 17\\\\\n\t NBA & Doug Mcdermott   & CHI & SF & 81 & 1860 & 291 &  644 & 110 & 259 & ⋯ &  14 &  52 &   6 & 127 & 0 &  764 &  0 & 0 & 0 &  4\\\\\n\t NBA & Patty Mills      & SAN & PG & 81 & 1659 & 260 &  612 & 123 & 320 & ⋯ &  59 &  76 &   6 & 102 & 0 &  690 &  0 & 0 & 0 &  3\\\\\n\t NBA & Paul Millsap     & ATL & PF & 81 & 2640 & 501 & 1067 &  74 & 232 & ⋯ & 148 & 191 & 140 & 237 & 2 & 1385 &  4 & 0 & 0 & 81\\\\\n\t NBA & Shabazz Muhammad & MIN & SF & 82 & 1678 & 317 &  681 &  44 & 152 & ⋯ &  24 &  70 &   7 &  94 & 0 &  863 &  0 & 0 & 0 &  0\\\\\n\t NBA & Raul Neto        & UTA & PG & 81 & 1501 & 180 &  418 &  64 & 162 & ⋯ &  62 & 109 &   2 & 122 & 1 &  476 &  0 & 0 & 0 & 53\\\\\n\t NBA & Mason Plumlee    & POR & PF & 82 & 2087 & 267 &  517 &   0 &   4 & ⋯ &  68 & 154 &  82 & 253 & 4 &  749 &  1 & 0 & 0 & 82\\\\\n\t NBA & Julius Randle    & LAL & PF & 81 & 2287 & 358 &  835 &  10 &  36 & ⋯ &  53 & 149 &  29 & 242 & 2 &  919 &  0 & 0 & 0 & 60\\\\\n\t NBA & Ramon Sessions   & WAS & PG & 82 & 1667 & 280 &  592 &  36 & 111 & ⋯ &  47 & 115 &   5 & 102 & 0 &  810 &  0 & 0 & 0 &  5\\\\\n\t NBA & Jared Sullinger  & BOS & PF & 81 & 1917 & 351 &  807 &  29 & 104 & ⋯ &  75 & 102 &  47 & 209 & 2 &  834 &  2 & 0 & 0 & 73\\\\\n\t NBA & Isaiah Thomas    & BOS & PG & 82 & 2647 & 591 & 1382 & 167 & 465 & ⋯ &  91 & 220 &   9 & 167 & 1 & 1823 &  9 & 0 & 0 & 79\\\\\n\t NBA & Tristan Thompson & CLE & C  & 82 & 2269 & 247 &  420 &   0 &   0 & ⋯ &  38 &  61 &  51 & 202 & 0 &  643 &  1 & 0 & 0 & 34\\\\\n\t NBA & Karl-antho Towns & MIN & C  & 82 & 2621 & 625 & 1152 &  30 &  88 & ⋯ &  58 & 183 & 138 & 245 & 1 & 1503 &  2 & 0 & 0 & 82\\\\\n\t NBA & P.j. Tucker      & PHO & SF & 82 & 2540 & 239 &  582 &  68 & 206 & ⋯ & 106 & 111 &  20 & 202 & 3 &  652 &  4 & 0 & 0 & 80\\\\\n\t NBA & Evan Turner      & BOS & SG & 81 & 2270 & 343 &  753 &  20 &  83 & ⋯ &  80 & 169 &  28 & 139 & 0 &  854 &  2 & 0 & 0 & 12\\\\\n\t NBA & Kemba Walker     & CHA & PG & 81 & 2885 & 568 & 1332 & 182 & 490 & ⋯ & 127 & 171 &  39 & 111 & 0 & 1689 &  5 & 0 & 0 & 81\\\\\n\t NBA & Andrew Wiggins   & MIN & SF & 81 & 2844 & 594 & 1294 &  57 & 190 & ⋯ &  78 & 182 &  46 & 165 & 1 & 1675 &  1 & 0 & 0 & 81\\\\\n\t NBA & Marvin Williams  & CHA & PF & 81 & 2339 & 338 &  747 & 152 & 379 & ⋯ &  58 &  62 &  77 & 133 & 1 &  948 &  0 & 0 & 0 & 81\\\\\n\\end{tabular}\n",
            "text/markdown": "\nA data.table: 43 × 25\n\n| League &lt;fct&gt; | Name &lt;chr&gt; | Team &lt;fct&gt; | Position &lt;fct&gt; | GamesPlayed &lt;int&gt; | TotalMinutesPlayed &lt;int&gt; | FieldGoalsMade &lt;int&gt; | FieldGoalsAttempted &lt;int&gt; | ThreesMade &lt;int&gt; | ThreesAttempted &lt;int&gt; | ⋯ ⋯ | Steals &lt;int&gt; | Turnovers &lt;int&gt; | Blocks &lt;int&gt; | PersonalFouls &lt;int&gt; | Disqualifications &lt;int&gt; | TotalPoints &lt;int&gt; | Technicals &lt;int&gt; | Ejections &lt;int&gt; | FlagrantFouls &lt;int&gt; | GamesStarted &lt;int&gt; |\n|---|---|---|---|---|---|---|---|---|---|---|---|---|---|---|---|---|---|---|---|---|\n| NBA | Al-farouq Aminu  | POR | SF | 82 | 2342 | 299 |  719 | 126 | 349 | ⋯ |  72 | 120 |  53 | 171 | 0 |  839 |  3 | 0 | 0 | 82 |\n| NBA | Trevor Ariza     | HOU | SF | 81 | 2860 | 357 |  858 | 185 | 497 | ⋯ | 161 | 113 |  26 | 177 | 0 | 1025 |  2 | 0 | 0 | 81 |\n| NBA | Will Barton      | DEN | SG | 82 | 2355 | 426 |  984 | 112 | 324 | ⋯ |  71 | 139 |  39 | 147 | 0 | 1180 |  2 | 0 | 0 |  1 |\n| NBA | Aron Baynes      | DET | PF | 81 | 1241 | 194 |  384 |   0 |   2 | ⋯ |  21 |  67 |  52 | 151 | 0 |  514 |  0 | 0 | 0 |  1 |\n| NBA | Bismack Biyombo  | TOR | PF | 82 | 1810 | 156 |  288 |   0 |   1 | ⋯ |  19 |  71 | 133 | 225 | 2 |  454 |  3 | 0 | 0 | 22 |\n| NBA | Corey Brewer     | HOU | SG | 82 | 1670 | 212 |  552 |  61 | 225 | ⋯ |  84 |  78 |  19 | 168 | 1 |  590 |  0 | 0 | 0 | 12 |\n| NBA | Allen Crabbe     | POR | SF | 81 | 2111 | 312 |  678 | 112 | 284 | ⋯ |  63 |  64 |  16 | 192 | 2 |  834 |  0 | 0 | 0 |  8 |\n| NBA | Ed Davis         | POR | PF | 81 | 1684 | 206 |  337 |   0 |   0 | ⋯ |  57 |  64 |  72 | 202 | 2 |  526 |  2 | 0 | 0 |  0 |\n| NBA | Gorgui Dieng     | MIN | C  | 82 | 2222 | 308 |  578 |   6 |  20 | ⋯ |  94 | 140 |  96 | 219 | 0 |  827 |  1 | 0 | 0 | 39 |\n| NBA | Andre Drummond   | DET | C  | 81 | 2664 | 552 | 1061 |   2 |   6 | ⋯ | 119 | 154 | 112 | 245 | 2 | 1314 |  7 | 0 | 0 | 81 |\n| NBA | Jared Dudley     | WAS | SG | 81 | 2098 | 233 |  487 | 100 | 239 | ⋯ |  75 |  80 |  18 | 190 | 1 |  638 |  1 | 0 | 0 | 41 |\n| NBA | Monta Ellis      | IND | PG | 81 | 2733 | 436 | 1021 |  87 | 281 | ⋯ | 149 | 203 |  38 | 174 | 0 | 1121 |  1 | 0 | 0 | 81 |\n| NBA | Randy Foye       | OKC | SG | 81 | 1640 | 168 |  481 |  75 | 250 | ⋯ |  39 |  86 |  29 | 131 | 0 |  472 |  0 | 0 | 0 |  8 |\n| NBA | Langsto Galloway | NYK | PG | 82 | 2032 | 231 |  588 |  77 | 224 | ⋯ |  77 |  61 |  22 | 177 | 2 |  625 |  0 | 0 | 0 |  7 |\n| NBA | Paul George      | IND | SF | 81 | 2828 | 605 | 1448 | 210 | 565 | ⋯ | 152 | 265 |  29 | 230 | 1 | 1874 |  6 | 0 | 0 | 81 |\n| NBA | Draymond Green   | GSW | SF | 81 | 2807 | 401 |  819 | 100 | 258 | ⋯ | 118 | 259 | 111 | 240 | 2 | 1131 | 11 | 0 | 0 | 81 |\n| NBA | James Harden     | HOU | SG | 82 | 3121 | 710 | 1617 | 236 | 656 | ⋯ | 138 | 374 |  51 | 229 | 1 | 2376 |  2 | 0 | 0 | 82 |\n| NBA | Roy Hibbert      | LAL | C  | 81 | 1881 | 182 |  411 |   0 |   2 | ⋯ |  32 |  76 | 110 | 252 | 3 |  481 |  2 | 0 | 0 | 81 |\n| NBA | Al Horford       | ATL | PF | 82 | 2638 | 529 | 1049 |  88 | 257 | ⋯ |  67 | 107 | 122 | 163 | 0 | 1249 |  1 | 0 | 0 | 82 |\n| NBA | Joe Ingles       | UTA | SF | 81 | 1241 | 124 |  291 |  81 | 210 | ⋯ |  55 |  65 |   4 |  98 | 0 |  342 |  1 | 0 | 0 |  2 |\n| NBA | Joe Johnson      | MIA | SF | 81 | 2703 | 377 |  859 | 120 | 313 | ⋯ |  61 | 160 |   4 | 146 | 0 |  992 |  1 | 0 | 0 | 81 |\n| NBA | Frank Kaminsky   | CHA | PF | 81 | 1713 | 215 |  525 |  68 | 202 | ⋯ |  37 |  58 |  43 | 126 | 0 |  606 |  0 | 0 | 0 |  3 |\n| NBA | Enes Kanter      | OKL | C  | 82 | 1721 | 415 |  720 |  10 |  21 | ⋯ |  26 | 115 |  33 | 166 | 1 | 1040 |  2 | 0 | 0 |  1 |\n| NBA | Zach Lavine      | MIN | PG | 82 | 2295 | 433 |  960 | 123 | 316 | ⋯ |  69 | 155 |  17 | 193 | 1 | 1150 |  0 | 0 | 0 | 33 |\n| NBA | Robin Lopez      | NYK | C  | 82 | 2213 | 357 |  662 |   0 |   1 | ⋯ |  16 | 133 | 129 | 182 | 2 |  842 |  3 | 0 | 0 | 82 |\n| NBA | T.j. Mcconnell   | PHI | PG | 81 | 1609 | 218 |  464 |  31 |  89 | ⋯ |  95 | 140 |  10 | 114 | 0 |  493 |  0 | 0 | 0 | 17 |\n| NBA | Doug Mcdermott   | CHI | SF | 81 | 1860 | 291 |  644 | 110 | 259 | ⋯ |  14 |  52 |   6 | 127 | 0 |  764 |  0 | 0 | 0 |  4 |\n| NBA | Patty Mills      | SAN | PG | 81 | 1659 | 260 |  612 | 123 | 320 | ⋯ |  59 |  76 |   6 | 102 | 0 |  690 |  0 | 0 | 0 |  3 |\n| NBA | Paul Millsap     | ATL | PF | 81 | 2640 | 501 | 1067 |  74 | 232 | ⋯ | 148 | 191 | 140 | 237 | 2 | 1385 |  4 | 0 | 0 | 81 |\n| NBA | Shabazz Muhammad | MIN | SF | 82 | 1678 | 317 |  681 |  44 | 152 | ⋯ |  24 |  70 |   7 |  94 | 0 |  863 |  0 | 0 | 0 |  0 |\n| NBA | Raul Neto        | UTA | PG | 81 | 1501 | 180 |  418 |  64 | 162 | ⋯ |  62 | 109 |   2 | 122 | 1 |  476 |  0 | 0 | 0 | 53 |\n| NBA | Mason Plumlee    | POR | PF | 82 | 2087 | 267 |  517 |   0 |   4 | ⋯ |  68 | 154 |  82 | 253 | 4 |  749 |  1 | 0 | 0 | 82 |\n| NBA | Julius Randle    | LAL | PF | 81 | 2287 | 358 |  835 |  10 |  36 | ⋯ |  53 | 149 |  29 | 242 | 2 |  919 |  0 | 0 | 0 | 60 |\n| NBA | Ramon Sessions   | WAS | PG | 82 | 1667 | 280 |  592 |  36 | 111 | ⋯ |  47 | 115 |   5 | 102 | 0 |  810 |  0 | 0 | 0 |  5 |\n| NBA | Jared Sullinger  | BOS | PF | 81 | 1917 | 351 |  807 |  29 | 104 | ⋯ |  75 | 102 |  47 | 209 | 2 |  834 |  2 | 0 | 0 | 73 |\n| NBA | Isaiah Thomas    | BOS | PG | 82 | 2647 | 591 | 1382 | 167 | 465 | ⋯ |  91 | 220 |   9 | 167 | 1 | 1823 |  9 | 0 | 0 | 79 |\n| NBA | Tristan Thompson | CLE | C  | 82 | 2269 | 247 |  420 |   0 |   0 | ⋯ |  38 |  61 |  51 | 202 | 0 |  643 |  1 | 0 | 0 | 34 |\n| NBA | Karl-antho Towns | MIN | C  | 82 | 2621 | 625 | 1152 |  30 |  88 | ⋯ |  58 | 183 | 138 | 245 | 1 | 1503 |  2 | 0 | 0 | 82 |\n| NBA | P.j. Tucker      | PHO | SF | 82 | 2540 | 239 |  582 |  68 | 206 | ⋯ | 106 | 111 |  20 | 202 | 3 |  652 |  4 | 0 | 0 | 80 |\n| NBA | Evan Turner      | BOS | SG | 81 | 2270 | 343 |  753 |  20 |  83 | ⋯ |  80 | 169 |  28 | 139 | 0 |  854 |  2 | 0 | 0 | 12 |\n| NBA | Kemba Walker     | CHA | PG | 81 | 2885 | 568 | 1332 | 182 | 490 | ⋯ | 127 | 171 |  39 | 111 | 0 | 1689 |  5 | 0 | 0 | 81 |\n| NBA | Andrew Wiggins   | MIN | SF | 81 | 2844 | 594 | 1294 |  57 | 190 | ⋯ |  78 | 182 |  46 | 165 | 1 | 1675 |  1 | 0 | 0 | 81 |\n| NBA | Marvin Williams  | CHA | PF | 81 | 2339 | 338 |  747 | 152 | 379 | ⋯ |  58 |  62 |  77 | 133 | 1 |  948 |  0 | 0 | 0 | 81 |\n\n",
            "text/html": [
              "<table>\n",
              "<caption>A data.table: 43 × 25</caption>\n",
              "<thead>\n",
              "\t<tr><th scope=col>League</th><th scope=col>Name</th><th scope=col>Team</th><th scope=col>Position</th><th scope=col>GamesPlayed</th><th scope=col>TotalMinutesPlayed</th><th scope=col>FieldGoalsMade</th><th scope=col>FieldGoalsAttempted</th><th scope=col>ThreesMade</th><th scope=col>ThreesAttempted</th><th scope=col>⋯</th><th scope=col>Steals</th><th scope=col>Turnovers</th><th scope=col>Blocks</th><th scope=col>PersonalFouls</th><th scope=col>Disqualifications</th><th scope=col>TotalPoints</th><th scope=col>Technicals</th><th scope=col>Ejections</th><th scope=col>FlagrantFouls</th><th scope=col>GamesStarted</th></tr>\n",
              "\t<tr><th scope=col>&lt;fct&gt;</th><th scope=col>&lt;chr&gt;</th><th scope=col>&lt;fct&gt;</th><th scope=col>&lt;fct&gt;</th><th scope=col>&lt;int&gt;</th><th scope=col>&lt;int&gt;</th><th scope=col>&lt;int&gt;</th><th scope=col>&lt;int&gt;</th><th scope=col>&lt;int&gt;</th><th scope=col>&lt;int&gt;</th><th scope=col>⋯</th><th scope=col>&lt;int&gt;</th><th scope=col>&lt;int&gt;</th><th scope=col>&lt;int&gt;</th><th scope=col>&lt;int&gt;</th><th scope=col>&lt;int&gt;</th><th scope=col>&lt;int&gt;</th><th scope=col>&lt;int&gt;</th><th scope=col>&lt;int&gt;</th><th scope=col>&lt;int&gt;</th><th scope=col>&lt;int&gt;</th></tr>\n",
              "</thead>\n",
              "<tbody>\n",
              "\t<tr><td>NBA</td><td>Al-farouq Aminu </td><td>POR</td><td>SF</td><td>82</td><td>2342</td><td>299</td><td> 719</td><td>126</td><td>349</td><td>⋯</td><td> 72</td><td>120</td><td> 53</td><td>171</td><td>0</td><td> 839</td><td> 3</td><td>0</td><td>0</td><td>82</td></tr>\n",
              "\t<tr><td>NBA</td><td>Trevor Ariza    </td><td>HOU</td><td>SF</td><td>81</td><td>2860</td><td>357</td><td> 858</td><td>185</td><td>497</td><td>⋯</td><td>161</td><td>113</td><td> 26</td><td>177</td><td>0</td><td>1025</td><td> 2</td><td>0</td><td>0</td><td>81</td></tr>\n",
              "\t<tr><td>NBA</td><td>Will Barton     </td><td>DEN</td><td>SG</td><td>82</td><td>2355</td><td>426</td><td> 984</td><td>112</td><td>324</td><td>⋯</td><td> 71</td><td>139</td><td> 39</td><td>147</td><td>0</td><td>1180</td><td> 2</td><td>0</td><td>0</td><td> 1</td></tr>\n",
              "\t<tr><td>NBA</td><td>Aron Baynes     </td><td>DET</td><td>PF</td><td>81</td><td>1241</td><td>194</td><td> 384</td><td>  0</td><td>  2</td><td>⋯</td><td> 21</td><td> 67</td><td> 52</td><td>151</td><td>0</td><td> 514</td><td> 0</td><td>0</td><td>0</td><td> 1</td></tr>\n",
              "\t<tr><td>NBA</td><td>Bismack Biyombo </td><td>TOR</td><td>PF</td><td>82</td><td>1810</td><td>156</td><td> 288</td><td>  0</td><td>  1</td><td>⋯</td><td> 19</td><td> 71</td><td>133</td><td>225</td><td>2</td><td> 454</td><td> 3</td><td>0</td><td>0</td><td>22</td></tr>\n",
              "\t<tr><td>NBA</td><td>Corey Brewer    </td><td>HOU</td><td>SG</td><td>82</td><td>1670</td><td>212</td><td> 552</td><td> 61</td><td>225</td><td>⋯</td><td> 84</td><td> 78</td><td> 19</td><td>168</td><td>1</td><td> 590</td><td> 0</td><td>0</td><td>0</td><td>12</td></tr>\n",
              "\t<tr><td>NBA</td><td>Allen Crabbe    </td><td>POR</td><td>SF</td><td>81</td><td>2111</td><td>312</td><td> 678</td><td>112</td><td>284</td><td>⋯</td><td> 63</td><td> 64</td><td> 16</td><td>192</td><td>2</td><td> 834</td><td> 0</td><td>0</td><td>0</td><td> 8</td></tr>\n",
              "\t<tr><td>NBA</td><td>Ed Davis        </td><td>POR</td><td>PF</td><td>81</td><td>1684</td><td>206</td><td> 337</td><td>  0</td><td>  0</td><td>⋯</td><td> 57</td><td> 64</td><td> 72</td><td>202</td><td>2</td><td> 526</td><td> 2</td><td>0</td><td>0</td><td> 0</td></tr>\n",
              "\t<tr><td>NBA</td><td>Gorgui Dieng    </td><td>MIN</td><td>C </td><td>82</td><td>2222</td><td>308</td><td> 578</td><td>  6</td><td> 20</td><td>⋯</td><td> 94</td><td>140</td><td> 96</td><td>219</td><td>0</td><td> 827</td><td> 1</td><td>0</td><td>0</td><td>39</td></tr>\n",
              "\t<tr><td>NBA</td><td>Andre Drummond  </td><td>DET</td><td>C </td><td>81</td><td>2664</td><td>552</td><td>1061</td><td>  2</td><td>  6</td><td>⋯</td><td>119</td><td>154</td><td>112</td><td>245</td><td>2</td><td>1314</td><td> 7</td><td>0</td><td>0</td><td>81</td></tr>\n",
              "\t<tr><td>NBA</td><td>Jared Dudley    </td><td>WAS</td><td>SG</td><td>81</td><td>2098</td><td>233</td><td> 487</td><td>100</td><td>239</td><td>⋯</td><td> 75</td><td> 80</td><td> 18</td><td>190</td><td>1</td><td> 638</td><td> 1</td><td>0</td><td>0</td><td>41</td></tr>\n",
              "\t<tr><td>NBA</td><td>Monta Ellis     </td><td>IND</td><td>PG</td><td>81</td><td>2733</td><td>436</td><td>1021</td><td> 87</td><td>281</td><td>⋯</td><td>149</td><td>203</td><td> 38</td><td>174</td><td>0</td><td>1121</td><td> 1</td><td>0</td><td>0</td><td>81</td></tr>\n",
              "\t<tr><td>NBA</td><td>Randy Foye      </td><td>OKC</td><td>SG</td><td>81</td><td>1640</td><td>168</td><td> 481</td><td> 75</td><td>250</td><td>⋯</td><td> 39</td><td> 86</td><td> 29</td><td>131</td><td>0</td><td> 472</td><td> 0</td><td>0</td><td>0</td><td> 8</td></tr>\n",
              "\t<tr><td>NBA</td><td>Langsto Galloway</td><td>NYK</td><td>PG</td><td>82</td><td>2032</td><td>231</td><td> 588</td><td> 77</td><td>224</td><td>⋯</td><td> 77</td><td> 61</td><td> 22</td><td>177</td><td>2</td><td> 625</td><td> 0</td><td>0</td><td>0</td><td> 7</td></tr>\n",
              "\t<tr><td>NBA</td><td>Paul George     </td><td>IND</td><td>SF</td><td>81</td><td>2828</td><td>605</td><td>1448</td><td>210</td><td>565</td><td>⋯</td><td>152</td><td>265</td><td> 29</td><td>230</td><td>1</td><td>1874</td><td> 6</td><td>0</td><td>0</td><td>81</td></tr>\n",
              "\t<tr><td>NBA</td><td>Draymond Green  </td><td>GSW</td><td>SF</td><td>81</td><td>2807</td><td>401</td><td> 819</td><td>100</td><td>258</td><td>⋯</td><td>118</td><td>259</td><td>111</td><td>240</td><td>2</td><td>1131</td><td>11</td><td>0</td><td>0</td><td>81</td></tr>\n",
              "\t<tr><td>NBA</td><td>James Harden    </td><td>HOU</td><td>SG</td><td>82</td><td>3121</td><td>710</td><td>1617</td><td>236</td><td>656</td><td>⋯</td><td>138</td><td>374</td><td> 51</td><td>229</td><td>1</td><td>2376</td><td> 2</td><td>0</td><td>0</td><td>82</td></tr>\n",
              "\t<tr><td>NBA</td><td>Roy Hibbert     </td><td>LAL</td><td>C </td><td>81</td><td>1881</td><td>182</td><td> 411</td><td>  0</td><td>  2</td><td>⋯</td><td> 32</td><td> 76</td><td>110</td><td>252</td><td>3</td><td> 481</td><td> 2</td><td>0</td><td>0</td><td>81</td></tr>\n",
              "\t<tr><td>NBA</td><td>Al Horford      </td><td>ATL</td><td>PF</td><td>82</td><td>2638</td><td>529</td><td>1049</td><td> 88</td><td>257</td><td>⋯</td><td> 67</td><td>107</td><td>122</td><td>163</td><td>0</td><td>1249</td><td> 1</td><td>0</td><td>0</td><td>82</td></tr>\n",
              "\t<tr><td>NBA</td><td>Joe Ingles      </td><td>UTA</td><td>SF</td><td>81</td><td>1241</td><td>124</td><td> 291</td><td> 81</td><td>210</td><td>⋯</td><td> 55</td><td> 65</td><td>  4</td><td> 98</td><td>0</td><td> 342</td><td> 1</td><td>0</td><td>0</td><td> 2</td></tr>\n",
              "\t<tr><td>NBA</td><td>Joe Johnson     </td><td>MIA</td><td>SF</td><td>81</td><td>2703</td><td>377</td><td> 859</td><td>120</td><td>313</td><td>⋯</td><td> 61</td><td>160</td><td>  4</td><td>146</td><td>0</td><td> 992</td><td> 1</td><td>0</td><td>0</td><td>81</td></tr>\n",
              "\t<tr><td>NBA</td><td>Frank Kaminsky  </td><td>CHA</td><td>PF</td><td>81</td><td>1713</td><td>215</td><td> 525</td><td> 68</td><td>202</td><td>⋯</td><td> 37</td><td> 58</td><td> 43</td><td>126</td><td>0</td><td> 606</td><td> 0</td><td>0</td><td>0</td><td> 3</td></tr>\n",
              "\t<tr><td>NBA</td><td>Enes Kanter     </td><td>OKL</td><td>C </td><td>82</td><td>1721</td><td>415</td><td> 720</td><td> 10</td><td> 21</td><td>⋯</td><td> 26</td><td>115</td><td> 33</td><td>166</td><td>1</td><td>1040</td><td> 2</td><td>0</td><td>0</td><td> 1</td></tr>\n",
              "\t<tr><td>NBA</td><td>Zach Lavine     </td><td>MIN</td><td>PG</td><td>82</td><td>2295</td><td>433</td><td> 960</td><td>123</td><td>316</td><td>⋯</td><td> 69</td><td>155</td><td> 17</td><td>193</td><td>1</td><td>1150</td><td> 0</td><td>0</td><td>0</td><td>33</td></tr>\n",
              "\t<tr><td>NBA</td><td>Robin Lopez     </td><td>NYK</td><td>C </td><td>82</td><td>2213</td><td>357</td><td> 662</td><td>  0</td><td>  1</td><td>⋯</td><td> 16</td><td>133</td><td>129</td><td>182</td><td>2</td><td> 842</td><td> 3</td><td>0</td><td>0</td><td>82</td></tr>\n",
              "\t<tr><td>NBA</td><td>T.j. Mcconnell  </td><td>PHI</td><td>PG</td><td>81</td><td>1609</td><td>218</td><td> 464</td><td> 31</td><td> 89</td><td>⋯</td><td> 95</td><td>140</td><td> 10</td><td>114</td><td>0</td><td> 493</td><td> 0</td><td>0</td><td>0</td><td>17</td></tr>\n",
              "\t<tr><td>NBA</td><td>Doug Mcdermott  </td><td>CHI</td><td>SF</td><td>81</td><td>1860</td><td>291</td><td> 644</td><td>110</td><td>259</td><td>⋯</td><td> 14</td><td> 52</td><td>  6</td><td>127</td><td>0</td><td> 764</td><td> 0</td><td>0</td><td>0</td><td> 4</td></tr>\n",
              "\t<tr><td>NBA</td><td>Patty Mills     </td><td>SAN</td><td>PG</td><td>81</td><td>1659</td><td>260</td><td> 612</td><td>123</td><td>320</td><td>⋯</td><td> 59</td><td> 76</td><td>  6</td><td>102</td><td>0</td><td> 690</td><td> 0</td><td>0</td><td>0</td><td> 3</td></tr>\n",
              "\t<tr><td>NBA</td><td>Paul Millsap    </td><td>ATL</td><td>PF</td><td>81</td><td>2640</td><td>501</td><td>1067</td><td> 74</td><td>232</td><td>⋯</td><td>148</td><td>191</td><td>140</td><td>237</td><td>2</td><td>1385</td><td> 4</td><td>0</td><td>0</td><td>81</td></tr>\n",
              "\t<tr><td>NBA</td><td>Shabazz Muhammad</td><td>MIN</td><td>SF</td><td>82</td><td>1678</td><td>317</td><td> 681</td><td> 44</td><td>152</td><td>⋯</td><td> 24</td><td> 70</td><td>  7</td><td> 94</td><td>0</td><td> 863</td><td> 0</td><td>0</td><td>0</td><td> 0</td></tr>\n",
              "\t<tr><td>NBA</td><td>Raul Neto       </td><td>UTA</td><td>PG</td><td>81</td><td>1501</td><td>180</td><td> 418</td><td> 64</td><td>162</td><td>⋯</td><td> 62</td><td>109</td><td>  2</td><td>122</td><td>1</td><td> 476</td><td> 0</td><td>0</td><td>0</td><td>53</td></tr>\n",
              "\t<tr><td>NBA</td><td>Mason Plumlee   </td><td>POR</td><td>PF</td><td>82</td><td>2087</td><td>267</td><td> 517</td><td>  0</td><td>  4</td><td>⋯</td><td> 68</td><td>154</td><td> 82</td><td>253</td><td>4</td><td> 749</td><td> 1</td><td>0</td><td>0</td><td>82</td></tr>\n",
              "\t<tr><td>NBA</td><td>Julius Randle   </td><td>LAL</td><td>PF</td><td>81</td><td>2287</td><td>358</td><td> 835</td><td> 10</td><td> 36</td><td>⋯</td><td> 53</td><td>149</td><td> 29</td><td>242</td><td>2</td><td> 919</td><td> 0</td><td>0</td><td>0</td><td>60</td></tr>\n",
              "\t<tr><td>NBA</td><td>Ramon Sessions  </td><td>WAS</td><td>PG</td><td>82</td><td>1667</td><td>280</td><td> 592</td><td> 36</td><td>111</td><td>⋯</td><td> 47</td><td>115</td><td>  5</td><td>102</td><td>0</td><td> 810</td><td> 0</td><td>0</td><td>0</td><td> 5</td></tr>\n",
              "\t<tr><td>NBA</td><td>Jared Sullinger </td><td>BOS</td><td>PF</td><td>81</td><td>1917</td><td>351</td><td> 807</td><td> 29</td><td>104</td><td>⋯</td><td> 75</td><td>102</td><td> 47</td><td>209</td><td>2</td><td> 834</td><td> 2</td><td>0</td><td>0</td><td>73</td></tr>\n",
              "\t<tr><td>NBA</td><td>Isaiah Thomas   </td><td>BOS</td><td>PG</td><td>82</td><td>2647</td><td>591</td><td>1382</td><td>167</td><td>465</td><td>⋯</td><td> 91</td><td>220</td><td>  9</td><td>167</td><td>1</td><td>1823</td><td> 9</td><td>0</td><td>0</td><td>79</td></tr>\n",
              "\t<tr><td>NBA</td><td>Tristan Thompson</td><td>CLE</td><td>C </td><td>82</td><td>2269</td><td>247</td><td> 420</td><td>  0</td><td>  0</td><td>⋯</td><td> 38</td><td> 61</td><td> 51</td><td>202</td><td>0</td><td> 643</td><td> 1</td><td>0</td><td>0</td><td>34</td></tr>\n",
              "\t<tr><td>NBA</td><td>Karl-antho Towns</td><td>MIN</td><td>C </td><td>82</td><td>2621</td><td>625</td><td>1152</td><td> 30</td><td> 88</td><td>⋯</td><td> 58</td><td>183</td><td>138</td><td>245</td><td>1</td><td>1503</td><td> 2</td><td>0</td><td>0</td><td>82</td></tr>\n",
              "\t<tr><td>NBA</td><td>P.j. Tucker     </td><td>PHO</td><td>SF</td><td>82</td><td>2540</td><td>239</td><td> 582</td><td> 68</td><td>206</td><td>⋯</td><td>106</td><td>111</td><td> 20</td><td>202</td><td>3</td><td> 652</td><td> 4</td><td>0</td><td>0</td><td>80</td></tr>\n",
              "\t<tr><td>NBA</td><td>Evan Turner     </td><td>BOS</td><td>SG</td><td>81</td><td>2270</td><td>343</td><td> 753</td><td> 20</td><td> 83</td><td>⋯</td><td> 80</td><td>169</td><td> 28</td><td>139</td><td>0</td><td> 854</td><td> 2</td><td>0</td><td>0</td><td>12</td></tr>\n",
              "\t<tr><td>NBA</td><td>Kemba Walker    </td><td>CHA</td><td>PG</td><td>81</td><td>2885</td><td>568</td><td>1332</td><td>182</td><td>490</td><td>⋯</td><td>127</td><td>171</td><td> 39</td><td>111</td><td>0</td><td>1689</td><td> 5</td><td>0</td><td>0</td><td>81</td></tr>\n",
              "\t<tr><td>NBA</td><td>Andrew Wiggins  </td><td>MIN</td><td>SF</td><td>81</td><td>2844</td><td>594</td><td>1294</td><td> 57</td><td>190</td><td>⋯</td><td> 78</td><td>182</td><td> 46</td><td>165</td><td>1</td><td>1675</td><td> 1</td><td>0</td><td>0</td><td>81</td></tr>\n",
              "\t<tr><td>NBA</td><td>Marvin Williams </td><td>CHA</td><td>PF</td><td>81</td><td>2339</td><td>338</td><td> 747</td><td>152</td><td>379</td><td>⋯</td><td> 58</td><td> 62</td><td> 77</td><td>133</td><td>1</td><td> 948</td><td> 0</td><td>0</td><td>0</td><td>81</td></tr>\n",
              "</tbody>\n",
              "</table>\n"
            ]
          },
          "metadata": {
            "tags": []
          }
        }
      ]
    },
    {
      "cell_type": "code",
      "metadata": {
        "id": "36BdYi6Xq5E4",
        "outputId": "77e87c2f-546f-4260-b920-1aa8eb6d5a59",
        "colab": {
          "base_uri": "https://localhost:8080/",
          "height": 372
        }
      },
      "source": [
        "NBA1516DT[grepl(\"C\", Name)&Position==\"PG\"]"
      ],
      "execution_count": null,
      "outputs": [
        {
          "output_type": "display_data",
          "data": {
            "text/plain": [
              "   League Name            Team Position GamesPlayed TotalMinutesPlayed\n",
              "1  NBA    Jose Calderon   NYK  PG       72          2021              \n",
              "2  NBA    Isaiah Canaan   PHI  PG       77          1968              \n",
              "3  NBA    Carter-williams MIL  PG       54          1649              \n",
              "4  NBA    Mario Chalmers  MEM  PG       61          1378              \n",
              "5  NBA    Jordan Clarkson LAL  PG       79          2556              \n",
              "6  NBA    Norris Cole     NOR  PG       45          1199              \n",
              "7  NBA    Darren Collison SAC  PG       74          2216              \n",
              "8  NBA    Mike Conley     MEM  PG       56          1754              \n",
              "9  NBA    Bryce Cotton    MEM  PG        8            41              \n",
              "10 NBA    Stephen Curry   GSW  PG       79          2705              \n",
              "11 NBA    Cory Joseph     TOR  PG       80          2053              \n",
              "12 NBA    Chris Paul      LAC  PG       74          2425              \n",
              "13 NBA    Cameron Payne   OKL  PG       57           703              \n",
              "14 NBA    C.j. Watson     ORL  PG       33           655              \n",
              "   FieldGoalsMade FieldGoalsAttempted ThreesMade ThreesAttempted ⋯ Steals\n",
              "1  209             455                 84        203             ⋯  63   \n",
              "2  260             722                176        484             ⋯  56   \n",
              "3  251             555                 15         55             ⋯  80   \n",
              "4  182             444                 46        149             ⋯  88   \n",
              "5  475            1099                111        318             ⋯  88   \n",
              "6  196             485                 33        103             ⋯  37   \n",
              "7  377             776                 87        217             ⋯  76   \n",
              "8  294             696                 78        215             ⋯  67   \n",
              "9    4              10                  0          3             ⋯   3   \n",
              "10 805            1597                402        887             ⋯ 169   \n",
              "11 257             585                 30        110             ⋯  63   \n",
              "12 515            1114                122        329             ⋯ 151   \n",
              "13 114             278                 36        111             ⋯  36   \n",
              "14  47             137                 14         48             ⋯  19   \n",
              "   Turnovers Blocks PersonalFouls Disqualifications TotalPoints Technicals\n",
              "1   87        7     135           1                  544        2         \n",
              "2   91       12     133           0                  846        1         \n",
              "3  153       41     162           0                  623        3         \n",
              "4  111       13     181           0                  628        5         \n",
              "5  135        7     168           1                 1225        0         \n",
              "6   75        5     102           0                  477        0         \n",
              "7  129        4     142           0                 1035        1         \n",
              "8   84       16     100           0                  857        0         \n",
              "9    5        0       2           0                    8        0         \n",
              "10 261       16     161           0                 2375        1         \n",
              "11 102       20     131           0                  677        1         \n",
              "12 193       13     185           0                 1446        7         \n",
              "13  44        6      80           0                  283        0         \n",
              "14  25        5      49           0                  142        0         \n",
              "   Ejections FlagrantFouls GamesStarted\n",
              "1  0         0             72          \n",
              "2  0         0             39          \n",
              "3  0         0             37          \n",
              "4  0         0              7          \n",
              "5  0         0             79          \n",
              "6  0         0             23          \n",
              "7  0         0             15          \n",
              "8  0         0             56          \n",
              "9  0         0              0          \n",
              "10 0         0             79          \n",
              "11 0         0              4          \n",
              "12 0         0             74          \n",
              "13 0         0              1          \n",
              "14 0         0              2          "
            ],
            "text/latex": "A data.table: 14 × 25\n\\begin{tabular}{lllllllllllllllllllll}\n League & Name & Team & Position & GamesPlayed & TotalMinutesPlayed & FieldGoalsMade & FieldGoalsAttempted & ThreesMade & ThreesAttempted & ⋯ & Steals & Turnovers & Blocks & PersonalFouls & Disqualifications & TotalPoints & Technicals & Ejections & FlagrantFouls & GamesStarted\\\\\n <fct> & <chr> & <fct> & <fct> & <int> & <int> & <int> & <int> & <int> & <int> & ⋯ & <int> & <int> & <int> & <int> & <int> & <int> & <int> & <int> & <int> & <int>\\\\\n\\hline\n\t NBA & Jose Calderon   & NYK & PG & 72 & 2021 & 209 &  455 &  84 & 203 & ⋯ &  63 &  87 &  7 & 135 & 1 &  544 & 2 & 0 & 0 & 72\\\\\n\t NBA & Isaiah Canaan   & PHI & PG & 77 & 1968 & 260 &  722 & 176 & 484 & ⋯ &  56 &  91 & 12 & 133 & 0 &  846 & 1 & 0 & 0 & 39\\\\\n\t NBA & Carter-williams & MIL & PG & 54 & 1649 & 251 &  555 &  15 &  55 & ⋯ &  80 & 153 & 41 & 162 & 0 &  623 & 3 & 0 & 0 & 37\\\\\n\t NBA & Mario Chalmers  & MEM & PG & 61 & 1378 & 182 &  444 &  46 & 149 & ⋯ &  88 & 111 & 13 & 181 & 0 &  628 & 5 & 0 & 0 &  7\\\\\n\t NBA & Jordan Clarkson & LAL & PG & 79 & 2556 & 475 & 1099 & 111 & 318 & ⋯ &  88 & 135 &  7 & 168 & 1 & 1225 & 0 & 0 & 0 & 79\\\\\n\t NBA & Norris Cole     & NOR & PG & 45 & 1199 & 196 &  485 &  33 & 103 & ⋯ &  37 &  75 &  5 & 102 & 0 &  477 & 0 & 0 & 0 & 23\\\\\n\t NBA & Darren Collison & SAC & PG & 74 & 2216 & 377 &  776 &  87 & 217 & ⋯ &  76 & 129 &  4 & 142 & 0 & 1035 & 1 & 0 & 0 & 15\\\\\n\t NBA & Mike Conley     & MEM & PG & 56 & 1754 & 294 &  696 &  78 & 215 & ⋯ &  67 &  84 & 16 & 100 & 0 &  857 & 0 & 0 & 0 & 56\\\\\n\t NBA & Bryce Cotton    & MEM & PG &  8 &   41 &   4 &   10 &   0 &   3 & ⋯ &   3 &   5 &  0 &   2 & 0 &    8 & 0 & 0 & 0 &  0\\\\\n\t NBA & Stephen Curry   & GSW & PG & 79 & 2705 & 805 & 1597 & 402 & 887 & ⋯ & 169 & 261 & 16 & 161 & 0 & 2375 & 1 & 0 & 0 & 79\\\\\n\t NBA & Cory Joseph     & TOR & PG & 80 & 2053 & 257 &  585 &  30 & 110 & ⋯ &  63 & 102 & 20 & 131 & 0 &  677 & 1 & 0 & 0 &  4\\\\\n\t NBA & Chris Paul      & LAC & PG & 74 & 2425 & 515 & 1114 & 122 & 329 & ⋯ & 151 & 193 & 13 & 185 & 0 & 1446 & 7 & 0 & 0 & 74\\\\\n\t NBA & Cameron Payne   & OKL & PG & 57 &  703 & 114 &  278 &  36 & 111 & ⋯ &  36 &  44 &  6 &  80 & 0 &  283 & 0 & 0 & 0 &  1\\\\\n\t NBA & C.j. Watson     & ORL & PG & 33 &  655 &  47 &  137 &  14 &  48 & ⋯ &  19 &  25 &  5 &  49 & 0 &  142 & 0 & 0 & 0 &  2\\\\\n\\end{tabular}\n",
            "text/markdown": "\nA data.table: 14 × 25\n\n| League &lt;fct&gt; | Name &lt;chr&gt; | Team &lt;fct&gt; | Position &lt;fct&gt; | GamesPlayed &lt;int&gt; | TotalMinutesPlayed &lt;int&gt; | FieldGoalsMade &lt;int&gt; | FieldGoalsAttempted &lt;int&gt; | ThreesMade &lt;int&gt; | ThreesAttempted &lt;int&gt; | ⋯ ⋯ | Steals &lt;int&gt; | Turnovers &lt;int&gt; | Blocks &lt;int&gt; | PersonalFouls &lt;int&gt; | Disqualifications &lt;int&gt; | TotalPoints &lt;int&gt; | Technicals &lt;int&gt; | Ejections &lt;int&gt; | FlagrantFouls &lt;int&gt; | GamesStarted &lt;int&gt; |\n|---|---|---|---|---|---|---|---|---|---|---|---|---|---|---|---|---|---|---|---|---|\n| NBA | Jose Calderon   | NYK | PG | 72 | 2021 | 209 |  455 |  84 | 203 | ⋯ |  63 |  87 |  7 | 135 | 1 |  544 | 2 | 0 | 0 | 72 |\n| NBA | Isaiah Canaan   | PHI | PG | 77 | 1968 | 260 |  722 | 176 | 484 | ⋯ |  56 |  91 | 12 | 133 | 0 |  846 | 1 | 0 | 0 | 39 |\n| NBA | Carter-williams | MIL | PG | 54 | 1649 | 251 |  555 |  15 |  55 | ⋯ |  80 | 153 | 41 | 162 | 0 |  623 | 3 | 0 | 0 | 37 |\n| NBA | Mario Chalmers  | MEM | PG | 61 | 1378 | 182 |  444 |  46 | 149 | ⋯ |  88 | 111 | 13 | 181 | 0 |  628 | 5 | 0 | 0 |  7 |\n| NBA | Jordan Clarkson | LAL | PG | 79 | 2556 | 475 | 1099 | 111 | 318 | ⋯ |  88 | 135 |  7 | 168 | 1 | 1225 | 0 | 0 | 0 | 79 |\n| NBA | Norris Cole     | NOR | PG | 45 | 1199 | 196 |  485 |  33 | 103 | ⋯ |  37 |  75 |  5 | 102 | 0 |  477 | 0 | 0 | 0 | 23 |\n| NBA | Darren Collison | SAC | PG | 74 | 2216 | 377 |  776 |  87 | 217 | ⋯ |  76 | 129 |  4 | 142 | 0 | 1035 | 1 | 0 | 0 | 15 |\n| NBA | Mike Conley     | MEM | PG | 56 | 1754 | 294 |  696 |  78 | 215 | ⋯ |  67 |  84 | 16 | 100 | 0 |  857 | 0 | 0 | 0 | 56 |\n| NBA | Bryce Cotton    | MEM | PG |  8 |   41 |   4 |   10 |   0 |   3 | ⋯ |   3 |   5 |  0 |   2 | 0 |    8 | 0 | 0 | 0 |  0 |\n| NBA | Stephen Curry   | GSW | PG | 79 | 2705 | 805 | 1597 | 402 | 887 | ⋯ | 169 | 261 | 16 | 161 | 0 | 2375 | 1 | 0 | 0 | 79 |\n| NBA | Cory Joseph     | TOR | PG | 80 | 2053 | 257 |  585 |  30 | 110 | ⋯ |  63 | 102 | 20 | 131 | 0 |  677 | 1 | 0 | 0 |  4 |\n| NBA | Chris Paul      | LAC | PG | 74 | 2425 | 515 | 1114 | 122 | 329 | ⋯ | 151 | 193 | 13 | 185 | 0 | 1446 | 7 | 0 | 0 | 74 |\n| NBA | Cameron Payne   | OKL | PG | 57 |  703 | 114 |  278 |  36 | 111 | ⋯ |  36 |  44 |  6 |  80 | 0 |  283 | 0 | 0 | 0 |  1 |\n| NBA | C.j. Watson     | ORL | PG | 33 |  655 |  47 |  137 |  14 |  48 | ⋯ |  19 |  25 |  5 |  49 | 0 |  142 | 0 | 0 | 0 |  2 |\n\n",
            "text/html": [
              "<table>\n",
              "<caption>A data.table: 14 × 25</caption>\n",
              "<thead>\n",
              "\t<tr><th scope=col>League</th><th scope=col>Name</th><th scope=col>Team</th><th scope=col>Position</th><th scope=col>GamesPlayed</th><th scope=col>TotalMinutesPlayed</th><th scope=col>FieldGoalsMade</th><th scope=col>FieldGoalsAttempted</th><th scope=col>ThreesMade</th><th scope=col>ThreesAttempted</th><th scope=col>⋯</th><th scope=col>Steals</th><th scope=col>Turnovers</th><th scope=col>Blocks</th><th scope=col>PersonalFouls</th><th scope=col>Disqualifications</th><th scope=col>TotalPoints</th><th scope=col>Technicals</th><th scope=col>Ejections</th><th scope=col>FlagrantFouls</th><th scope=col>GamesStarted</th></tr>\n",
              "\t<tr><th scope=col>&lt;fct&gt;</th><th scope=col>&lt;chr&gt;</th><th scope=col>&lt;fct&gt;</th><th scope=col>&lt;fct&gt;</th><th scope=col>&lt;int&gt;</th><th scope=col>&lt;int&gt;</th><th scope=col>&lt;int&gt;</th><th scope=col>&lt;int&gt;</th><th scope=col>&lt;int&gt;</th><th scope=col>&lt;int&gt;</th><th scope=col>⋯</th><th scope=col>&lt;int&gt;</th><th scope=col>&lt;int&gt;</th><th scope=col>&lt;int&gt;</th><th scope=col>&lt;int&gt;</th><th scope=col>&lt;int&gt;</th><th scope=col>&lt;int&gt;</th><th scope=col>&lt;int&gt;</th><th scope=col>&lt;int&gt;</th><th scope=col>&lt;int&gt;</th><th scope=col>&lt;int&gt;</th></tr>\n",
              "</thead>\n",
              "<tbody>\n",
              "\t<tr><td>NBA</td><td>Jose Calderon  </td><td>NYK</td><td>PG</td><td>72</td><td>2021</td><td>209</td><td> 455</td><td> 84</td><td>203</td><td>⋯</td><td> 63</td><td> 87</td><td> 7</td><td>135</td><td>1</td><td> 544</td><td>2</td><td>0</td><td>0</td><td>72</td></tr>\n",
              "\t<tr><td>NBA</td><td>Isaiah Canaan  </td><td>PHI</td><td>PG</td><td>77</td><td>1968</td><td>260</td><td> 722</td><td>176</td><td>484</td><td>⋯</td><td> 56</td><td> 91</td><td>12</td><td>133</td><td>0</td><td> 846</td><td>1</td><td>0</td><td>0</td><td>39</td></tr>\n",
              "\t<tr><td>NBA</td><td>Carter-williams</td><td>MIL</td><td>PG</td><td>54</td><td>1649</td><td>251</td><td> 555</td><td> 15</td><td> 55</td><td>⋯</td><td> 80</td><td>153</td><td>41</td><td>162</td><td>0</td><td> 623</td><td>3</td><td>0</td><td>0</td><td>37</td></tr>\n",
              "\t<tr><td>NBA</td><td>Mario Chalmers </td><td>MEM</td><td>PG</td><td>61</td><td>1378</td><td>182</td><td> 444</td><td> 46</td><td>149</td><td>⋯</td><td> 88</td><td>111</td><td>13</td><td>181</td><td>0</td><td> 628</td><td>5</td><td>0</td><td>0</td><td> 7</td></tr>\n",
              "\t<tr><td>NBA</td><td>Jordan Clarkson</td><td>LAL</td><td>PG</td><td>79</td><td>2556</td><td>475</td><td>1099</td><td>111</td><td>318</td><td>⋯</td><td> 88</td><td>135</td><td> 7</td><td>168</td><td>1</td><td>1225</td><td>0</td><td>0</td><td>0</td><td>79</td></tr>\n",
              "\t<tr><td>NBA</td><td>Norris Cole    </td><td>NOR</td><td>PG</td><td>45</td><td>1199</td><td>196</td><td> 485</td><td> 33</td><td>103</td><td>⋯</td><td> 37</td><td> 75</td><td> 5</td><td>102</td><td>0</td><td> 477</td><td>0</td><td>0</td><td>0</td><td>23</td></tr>\n",
              "\t<tr><td>NBA</td><td>Darren Collison</td><td>SAC</td><td>PG</td><td>74</td><td>2216</td><td>377</td><td> 776</td><td> 87</td><td>217</td><td>⋯</td><td> 76</td><td>129</td><td> 4</td><td>142</td><td>0</td><td>1035</td><td>1</td><td>0</td><td>0</td><td>15</td></tr>\n",
              "\t<tr><td>NBA</td><td>Mike Conley    </td><td>MEM</td><td>PG</td><td>56</td><td>1754</td><td>294</td><td> 696</td><td> 78</td><td>215</td><td>⋯</td><td> 67</td><td> 84</td><td>16</td><td>100</td><td>0</td><td> 857</td><td>0</td><td>0</td><td>0</td><td>56</td></tr>\n",
              "\t<tr><td>NBA</td><td>Bryce Cotton   </td><td>MEM</td><td>PG</td><td> 8</td><td>  41</td><td>  4</td><td>  10</td><td>  0</td><td>  3</td><td>⋯</td><td>  3</td><td>  5</td><td> 0</td><td>  2</td><td>0</td><td>   8</td><td>0</td><td>0</td><td>0</td><td> 0</td></tr>\n",
              "\t<tr><td>NBA</td><td>Stephen Curry  </td><td>GSW</td><td>PG</td><td>79</td><td>2705</td><td>805</td><td>1597</td><td>402</td><td>887</td><td>⋯</td><td>169</td><td>261</td><td>16</td><td>161</td><td>0</td><td>2375</td><td>1</td><td>0</td><td>0</td><td>79</td></tr>\n",
              "\t<tr><td>NBA</td><td>Cory Joseph    </td><td>TOR</td><td>PG</td><td>80</td><td>2053</td><td>257</td><td> 585</td><td> 30</td><td>110</td><td>⋯</td><td> 63</td><td>102</td><td>20</td><td>131</td><td>0</td><td> 677</td><td>1</td><td>0</td><td>0</td><td> 4</td></tr>\n",
              "\t<tr><td>NBA</td><td>Chris Paul     </td><td>LAC</td><td>PG</td><td>74</td><td>2425</td><td>515</td><td>1114</td><td>122</td><td>329</td><td>⋯</td><td>151</td><td>193</td><td>13</td><td>185</td><td>0</td><td>1446</td><td>7</td><td>0</td><td>0</td><td>74</td></tr>\n",
              "\t<tr><td>NBA</td><td>Cameron Payne  </td><td>OKL</td><td>PG</td><td>57</td><td> 703</td><td>114</td><td> 278</td><td> 36</td><td>111</td><td>⋯</td><td> 36</td><td> 44</td><td> 6</td><td> 80</td><td>0</td><td> 283</td><td>0</td><td>0</td><td>0</td><td> 1</td></tr>\n",
              "\t<tr><td>NBA</td><td>C.j. Watson    </td><td>ORL</td><td>PG</td><td>33</td><td> 655</td><td> 47</td><td> 137</td><td> 14</td><td> 48</td><td>⋯</td><td> 19</td><td> 25</td><td> 5</td><td> 49</td><td>0</td><td> 142</td><td>0</td><td>0</td><td>0</td><td> 2</td></tr>\n",
              "</tbody>\n",
              "</table>\n"
            ]
          },
          "metadata": {
            "tags": []
          }
        }
      ]
    }
  ]
}