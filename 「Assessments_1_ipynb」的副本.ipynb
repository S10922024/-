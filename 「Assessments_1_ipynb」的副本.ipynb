{
  "nbformat": 4,
  "nbformat_minor": 0,
  "metadata": {
    "colab": {
      "name": "「Assessments-1.ipynb」的副本",
      "provenance": [],
      "collapsed_sections": [],
      "include_colab_link": true
    },
    "kernelspec": {
      "name": "ir",
      "display_name": "R"
    }
  },
  "cells": [
    {
      "cell_type": "markdown",
      "metadata": {
        "id": "view-in-github",
        "colab_type": "text"
      },
      "source": [
        "<a href=\"https://colab.research.google.com/github/S10922024/-/blob/master/%E3%80%8CAssessments_1_ipynb%E3%80%8D%E7%9A%84%E5%89%AF%E6%9C%AC.ipynb\" target=\"_parent\"><img src=\"https://colab.research.google.com/assets/colab-badge.svg\" alt=\"Open In Colab\"/></a>"
      ]
    },
    {
      "cell_type": "code",
      "metadata": {
        "id": "HQEzyUQIWfbj",
        "colab_type": "code",
        "colab": {
          "base_uri": "https://localhost:8080/",
          "height": 34
        },
        "outputId": "02ce3ad9-fb42-4e26-fef7-0cbbdc5b68db"
      },
      "source": [
        "class(9)"
      ],
      "execution_count": null,
      "outputs": [
        {
          "output_type": "display_data",
          "data": {
            "text/plain": [
              "[1] \"numeric\""
            ],
            "text/latex": "'numeric'",
            "text/markdown": "'numeric'",
            "text/html": [
              "'numeric'"
            ]
          },
          "metadata": {
            "tags": []
          }
        }
      ]
    },
    {
      "cell_type": "code",
      "metadata": {
        "id": "XWnisLWdXPb7",
        "colab_type": "code",
        "colab": {
          "base_uri": "https://localhost:8080/",
          "height": 34
        },
        "outputId": "df3888dc-85c8-4cb9-ae7b-2891ac2f2ee3"
      },
      "source": [
        "class(\"HI\")"
      ],
      "execution_count": null,
      "outputs": [
        {
          "output_type": "display_data",
          "data": {
            "text/plain": [
              "[1] \"character\""
            ],
            "text/latex": "'character'",
            "text/markdown": "'character'",
            "text/html": [
              "'character'"
            ]
          },
          "metadata": {
            "tags": []
          }
        }
      ]
    },
    {
      "cell_type": "code",
      "metadata": {
        "id": "gETxRi4nX01B",
        "colab_type": "code",
        "colab": {
          "base_uri": "https://localhost:8080/",
          "height": 34
        },
        "outputId": "77c48ac2-6726-4eec-95ef-1db89d02beae"
      },
      "source": [
        "244747 > 5"
      ],
      "execution_count": null,
      "outputs": [
        {
          "output_type": "display_data",
          "data": {
            "text/plain": [
              "[1] TRUE"
            ],
            "text/latex": "TRUE",
            "text/markdown": "TRUE",
            "text/html": [
              "TRUE"
            ]
          },
          "metadata": {
            "tags": []
          }
        }
      ]
    },
    {
      "cell_type": "code",
      "metadata": {
        "id": "PSkBjgLMXikU",
        "colab_type": "code",
        "colab": {
          "base_uri": "https://localhost:8080/",
          "height": 34
        },
        "outputId": "8029bc07-47d1-494a-a6ac-95eb5a70c720"
      },
      "source": [
        "0 + 0 > 1"
      ],
      "execution_count": null,
      "outputs": [
        {
          "output_type": "display_data",
          "data": {
            "text/plain": [
              "[1] FALSE"
            ],
            "text/latex": "FALSE",
            "text/markdown": "FALSE",
            "text/html": [
              "FALSE"
            ]
          },
          "metadata": {
            "tags": []
          }
        }
      ]
    },
    {
      "cell_type": "code",
      "metadata": {
        "id": "iI9MLz9_YrQE",
        "colab_type": "code",
        "colab": {}
      },
      "source": [
        "my_H <- 176"
      ],
      "execution_count": null,
      "outputs": []
    },
    {
      "cell_type": "code",
      "metadata": {
        "id": "Sn_A-rn0Y43N",
        "colab_type": "code",
        "colab": {}
      },
      "source": [
        "my_W <- 60"
      ],
      "execution_count": null,
      "outputs": []
    },
    {
      "cell_type": "code",
      "metadata": {
        "id": "YvVDCYjpZrfV",
        "colab_type": "code",
        "colab": {
          "base_uri": "https://localhost:8080/",
          "height": 34
        },
        "outputId": "6b39f161-57b9-4d68-a084-17df3a9fd085"
      },
      "source": [
        "my_W / (my_H/100)^2"
      ],
      "execution_count": null,
      "outputs": [
        {
          "output_type": "display_data",
          "data": {
            "text/plain": [
              "[1] 19.36983"
            ],
            "text/latex": "19.3698347107438",
            "text/markdown": "19.3698347107438",
            "text/html": [
              "19.3698347107438"
            ]
          },
          "metadata": {
            "tags": []
          }
        }
      ]
    },
    {
      "cell_type": "code",
      "metadata": {
        "id": "6pgW5rMIZDT1",
        "colab_type": "code",
        "colab": {}
      },
      "source": [
        "first_name <- \"Andy\""
      ],
      "execution_count": null,
      "outputs": []
    },
    {
      "cell_type": "code",
      "metadata": {
        "id": "-ErA8JmxZXhd",
        "colab_type": "code",
        "colab": {
          "base_uri": "https://localhost:8080/",
          "height": 34
        },
        "outputId": "33e754ff-7b88-4382-edd4-de8b9deba92d"
      },
      "source": [
        "first_name"
      ],
      "execution_count": null,
      "outputs": [
        {
          "output_type": "display_data",
          "data": {
            "text/plain": [
              "[1] \"Andy\""
            ],
            "text/latex": "'Andy'",
            "text/markdown": "'Andy'",
            "text/html": [
              "'Andy'"
            ]
          },
          "metadata": {
            "tags": []
          }
        }
      ]
    },
    {
      "cell_type": "code",
      "metadata": {
        "id": "iuBunxljbPxF",
        "colab_type": "code",
        "colab": {
          "base_uri": "https://localhost:8080/",
          "height": 34
        },
        "outputId": "7f141843-e6d8-420f-e2d9-2a8d21d1929c"
      },
      "source": [
        "paste0('我是', first_name, '我的體重', my_W , '我的身高', my_H ,'我的BMI', my_W / (my_H/100)^2 ) "
      ],
      "execution_count": null,
      "outputs": [
        {
          "output_type": "display_data",
          "data": {
            "text/plain": [
              "[1] \"我是Andy我的體重60我的身高176我的BMI19.3698347107438\""
            ],
            "text/latex": "'我是Andy我的體重60我的身高176我的BMI19.3698347107438'",
            "text/markdown": "'我是Andy我的體重60我的身高176我的BMI19.3698347107438'",
            "text/html": [
              "'我是Andy我的體重60我的身高176我的BMI19.3698347107438'"
            ]
          },
          "metadata": {
            "tags": []
          }
        }
      ]
    }
  ]
}